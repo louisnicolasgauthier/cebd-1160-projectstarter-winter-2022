{
 "cells": [
  {
   "cell_type": "code",
   "execution_count": 5,
   "metadata": {
    "collapsed": true
   },
   "outputs": [],
   "source": [
    "import pandas as pd\n",
    "import json\n",
    "import requests"
   ]
  },
  {
   "cell_type": "code",
   "execution_count": 8,
   "outputs": [],
   "source": [
    "r = requests.get('http://localhost:5000/v1/stats/data/full')\n",
    "df = pd.read_json(json.dumps(r.json()))"
   ],
   "metadata": {
    "collapsed": false,
    "pycharm": {
     "name": "#%%\n"
    }
   }
  },
  {
   "cell_type": "markdown",
   "source": [
    "## Exploring the data"
   ],
   "metadata": {
    "collapsed": false
   }
  },
  {
   "cell_type": "code",
   "execution_count": 11,
   "outputs": [
    {
     "name": "stdout",
     "output_type": "stream",
     "text": [
      "<class 'pandas.core.frame.DataFrame'>\n",
      "RangeIndex: 103658 entries, 0 to 103657\n",
      "Data columns (total 18 columns):\n",
      " #   Column             Non-Null Count   Dtype  \n",
      "---  ------             --------------   -----  \n",
      " 0   age_6              19184 non-null   float64\n",
      " 1   cma                103658 non-null  int64  \n",
      " 2   cma_name           103658 non-null  object \n",
      " 3   cowmain            67062 non-null   float64\n",
      " 4   cowmain_name       103658 non-null  object \n",
      " 5   educ               103658 non-null  int64  \n",
      " 6   full_naics_21      103658 non-null  object \n",
      " 7   immig              103658 non-null  object \n",
      " 8   index              103658 non-null  int64  \n",
      " 9   is_student         76893 non-null   float64\n",
      " 10  lfsstat            103658 non-null  int64  \n",
      " 11  naics_21           103658 non-null  object \n",
      " 12  prov               103658 non-null  int64  \n",
      " 13  prov_name          103658 non-null  object \n",
      " 14  schooln            76893 non-null   float64\n",
      " 15  sex                103658 non-null  object \n",
      " 16  student_full_time  9415 non-null    float64\n",
      " 17  uhrsmain           59943 non-null   float64\n",
      "dtypes: float64(6), int64(5), object(7)\n",
      "memory usage: 14.2+ MB\n"
     ]
    }
   ],
   "source": [
    "df.info()"
   ],
   "metadata": {
    "collapsed": false,
    "pycharm": {
     "name": "#%%\n"
    }
   }
  },
  {
   "cell_type": "markdown",
   "source": [
    "### \n",
    "The dataframe has a total of 18 different columns. Those columns only use the following types: `[object, int64 and float64]`. We can determine that the boolean values, for instance, `is_student` has been encoded to a float when importing the data in mysql.\n",
    "\n",
    "### Null and Non-null values\n",
    "A few columns with 103658 non-null values have null values at all since there is a total of 103658 entries.\n",
    "\n",
    "It is interesting to note that the new columns we have created in the cleaning process have no non-null values, since the mapping from the source column includes setting a non-null value even when the source value in `NaN.\n",
    "\n",
    "For instance, if the original value for `cowmain` is `NaN`, the corresponding `cowmain_name` would be `'Not applicable'`\n",
    "\n",
    "### Other observations\n",
    "We also note that the source data has some columns such as `age_6` which is missing source information since we would expect any person to have an age. This would probably be attributable to the inability to acquire this data during the data collection phase, when creating the dataset. "
   ],
   "metadata": {
    "collapsed": false,
    "pycharm": {
     "name": "#%% md\n"
    }
   }
  },
  {
   "cell_type": "code",
   "execution_count": null,
   "outputs": [],
   "source": [],
   "metadata": {
    "collapsed": false,
    "pycharm": {
     "name": "#%%\n"
    }
   }
  },
  {
   "cell_type": "code",
   "execution_count": null,
   "outputs": [],
   "source": [],
   "metadata": {
    "collapsed": false,
    "pycharm": {
     "name": "#%%\n"
    }
   }
  }
 ],
 "metadata": {
  "kernelspec": {
   "display_name": "Python 3",
   "language": "python",
   "name": "python3"
  },
  "language_info": {
   "codemirror_mode": {
    "name": "ipython",
    "version": 2
   },
   "file_extension": ".py",
   "mimetype": "text/x-python",
   "name": "python",
   "nbconvert_exporter": "python",
   "pygments_lexer": "ipython2",
   "version": "2.7.6"
  }
 },
 "nbformat": 4,
 "nbformat_minor": 0
}