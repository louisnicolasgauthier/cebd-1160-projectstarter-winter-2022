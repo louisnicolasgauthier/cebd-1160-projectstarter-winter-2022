{
 "cells": [
  {
   "cell_type": "code",
   "execution_count": 13,
   "metadata": {
    "collapsed": true
   },
   "outputs": [],
   "source": [
    "import pandas as pd\n",
    "import seaborn as sns\n",
    "import json\n",
    "import requests\n",
    "import numpy as np"
   ]
  },
  {
   "cell_type": "code",
   "execution_count": 8,
   "outputs": [],
   "source": [
    "r = requests.get('http://localhost:5000/v1/stats/data/full')\n",
    "df = pd.read_json(json.dumps(r.json()))"
   ],
   "metadata": {
    "collapsed": false,
    "pycharm": {
     "name": "#%%\n"
    }
   }
  },
  {
   "cell_type": "markdown",
   "source": [
    "## Exploring the data"
   ],
   "metadata": {
    "collapsed": false
   }
  },
  {
   "cell_type": "code",
   "execution_count": 11,
   "outputs": [
    {
     "name": "stdout",
     "output_type": "stream",
     "text": [
      "<class 'pandas.core.frame.DataFrame'>\n",
      "RangeIndex: 103658 entries, 0 to 103657\n",
      "Data columns (total 18 columns):\n",
      " #   Column             Non-Null Count   Dtype  \n",
      "---  ------             --------------   -----  \n",
      " 0   age_6              19184 non-null   float64\n",
      " 1   cma                103658 non-null  int64  \n",
      " 2   cma_name           103658 non-null  object \n",
      " 3   cowmain            67062 non-null   float64\n",
      " 4   cowmain_name       103658 non-null  object \n",
      " 5   educ               103658 non-null  int64  \n",
      " 6   full_naics_21      103658 non-null  object \n",
      " 7   immig              103658 non-null  object \n",
      " 8   index              103658 non-null  int64  \n",
      " 9   is_student         76893 non-null   float64\n",
      " 10  lfsstat            103658 non-null  int64  \n",
      " 11  naics_21           103658 non-null  object \n",
      " 12  prov               103658 non-null  int64  \n",
      " 13  prov_name          103658 non-null  object \n",
      " 14  schooln            76893 non-null   float64\n",
      " 15  sex                103658 non-null  object \n",
      " 16  student_full_time  9415 non-null    float64\n",
      " 17  uhrsmain           59943 non-null   float64\n",
      "dtypes: float64(6), int64(5), object(7)\n",
      "memory usage: 14.2+ MB\n"
     ]
    }
   ],
   "source": [
    "df.info()"
   ],
   "metadata": {
    "collapsed": false,
    "pycharm": {
     "name": "#%%\n"
    }
   }
  },
  {
   "cell_type": "markdown",
   "source": [
    "### Dataset first look\n",
    "The dataframe has a total of 18 different columns. Those columns only use the following types: `[object, int64 and float64]`. We can determine that the boolean values, for instance, `is_student` has been encoded to a float when importing the data in mysql.\n",
    "\n",
    "### Null and Non-null values\n",
    "A few columns with 103658 non-null values have null values at all since there is a total of 103658 entries.\n",
    "\n",
    "It is interesting to note that the new columns we have created in the cleaning process have no non-null values, since the mapping from the source column includes setting a non-null value even when the source value in `NaN.\n",
    "\n",
    "For instance, if the original value for `cowmain` is `NaN`, the corresponding `cowmain_name` would be `'Not applicable'`\n",
    "\n",
    "### Other observations\n",
    "We also note that the source data has some columns such as `age_6` which is missing source information since we would expect any person to have an age. This would probably be attributable to the inability to acquire this data during the data collection phase, when creating the dataset."
   ],
   "metadata": {
    "collapsed": false,
    "pycharm": {
     "name": "#%% md\n"
    }
   }
  },
  {
   "cell_type": "markdown",
   "source": [
    "## Gender distribution"
   ],
   "metadata": {
    "collapsed": false
   }
  },
  {
   "cell_type": "markdown",
   "source": [
    "### Distribution of gender per province"
   ],
   "metadata": {
    "collapsed": false
   }
  },
  {
   "cell_type": "code",
   "execution_count": 118,
   "outputs": [
    {
     "data": {
      "text/plain": "prov_name  sex\nAB         F       4030\n           M       3945\nBC         F       6804\n           M       6191\nMB         F       4357\n           M       4147\nND         F       2854\n           M       2612\nNL         F       2107\n           M       1963\nNS         F       2776\n           M       2485\nON         F      16515\n           M      15515\nPE         F       1167\n           M       1085\nQC         F       9940\n           M       9476\nSK         F       2941\n           M       2748\ndtype: int64"
     },
     "execution_count": 118,
     "metadata": {},
     "output_type": "execute_result"
    }
   ],
   "source": [
    "data = df[['sex', 'prov_name']].groupby('prov_name').value_counts()\n",
    "data"
   ],
   "metadata": {
    "collapsed": false,
    "pycharm": {
     "name": "#%%\n"
    }
   }
  },
  {
   "cell_type": "markdown",
   "source": [
    "### Distribution of gender in Quebec"
   ],
   "metadata": {
    "collapsed": false,
    "pycharm": {
     "name": "#%% md\n"
    }
   }
  },
  {
   "cell_type": "code",
   "execution_count": 116,
   "outputs": [
    {
     "data": {
      "text/plain": "F    9940\nM    9476\nName: sex, dtype: int64"
     },
     "execution_count": 116,
     "metadata": {},
     "output_type": "execute_result"
    }
   ],
   "source": [
    "data = df.query('prov_name == \"QC\"')['sex'].value_counts()\n",
    "data"
   ],
   "metadata": {
    "collapsed": false,
    "pycharm": {
     "name": "#%%\n"
    }
   }
  },
  {
   "cell_type": "markdown",
   "source": [
    "## What is the labour force status, per province, for all the workers?"
   ],
   "metadata": {
    "collapsed": false,
    "pycharm": {
     "name": "#%% md\n"
    }
   }
  },
  {
   "cell_type": "code",
   "execution_count": 142,
   "outputs": [
    {
     "data": {
      "text/plain": "prov_name  lfsstat\nAB         1           4603\n           3            360\n           2            351\nBC         1           7066\n           2            540\n           3            386\nMB         1           4782\n           2            363\n           3            236\nND         1           2581\n           3            258\n           2            249\nNL         1           1863\n           3            262\n           2            193\nNS         1           2513\n           2            225\n           3            214\nON         1          17136\n           2           1392\n           3           1051\nPE         1           1135\n           3            149\n           2             96\nQC         1          10369\n           2            945\n           3            540\nSK         1           3228\n           2            313\n           3            174\ndtype: int64"
     },
     "execution_count": 142,
     "metadata": {},
     "output_type": "execute_result"
    }
   ],
   "source": [
    "# 14,1,2017,, lfsstat    ,Labour force status,Situation d'activit�,,,,,,,,,\n",
    "# ,,,,,,,,,,,1,\"Employed, at work\",\"Personnes occup�es, au travail\",,\n",
    "# ,,,,,,,,,,,2,\"Employed, absent from work\",\"Personnes occup�es, absentes du travail\",,\n",
    "# ,,,,,,,,,,,3,Unemployed,Ch�meurs,,\n",
    "# ,,,,,,,,,,,4,Not in labour force,Inactifs,,\n",
    "\n",
    "# We exclude lfsstat == 4 since this means the person is not in workforce, therefore not a worker\n",
    "df.query('lfsstat != 4')[['lfsstat', 'prov_name']].groupby('prov_name').value_counts()"
   ],
   "metadata": {
    "collapsed": false,
    "pycharm": {
     "name": "#%%\n"
    }
   }
  },
  {
   "cell_type": "code",
   "execution_count": null,
   "outputs": [],
   "source": [],
   "metadata": {
    "collapsed": false,
    "pycharm": {
     "name": "#%%\n"
    }
   }
  }
 ],
 "metadata": {
  "kernelspec": {
   "display_name": "Python 3",
   "language": "python",
   "name": "python3"
  },
  "language_info": {
   "codemirror_mode": {
    "name": "ipython",
    "version": 2
   },
   "file_extension": ".py",
   "mimetype": "text/x-python",
   "name": "python",
   "nbconvert_exporter": "python",
   "pygments_lexer": "ipython2",
   "version": "2.7.6"
  }
 },
 "nbformat": 4,
 "nbformat_minor": 0
}