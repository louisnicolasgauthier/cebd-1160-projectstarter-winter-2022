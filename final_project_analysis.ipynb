{
 "cells": [
  {
   "cell_type": "code",
   "execution_count": 3,
   "metadata": {
    "collapsed": true
   },
   "outputs": [],
   "source": [
    "import pandas as pd\n",
    "import seaborn as sns\n",
    "import json\n",
    "import requests\n",
    "import numpy as np"
   ]
  },
  {
   "cell_type": "code",
   "execution_count": 5,
   "outputs": [],
   "source": [
    "r = requests.get('http://localhost:5000/v1/stats/data/full')\n",
    "df = pd.read_json(json.dumps(r.json()))"
   ],
   "metadata": {
    "collapsed": false,
    "pycharm": {
     "name": "#%%\n"
    }
   }
  },
  {
   "cell_type": "markdown",
   "source": [
    "## Exploring the data"
   ],
   "metadata": {
    "collapsed": false
   }
  },
  {
   "cell_type": "code",
   "execution_count": 6,
   "outputs": [
    {
     "name": "stdout",
     "output_type": "stream",
     "text": [
      "<class 'pandas.core.frame.DataFrame'>\n",
      "RangeIndex: 103658 entries, 0 to 103657\n",
      "Data columns (total 18 columns):\n",
      " #   Column             Non-Null Count   Dtype  \n",
      "---  ------             --------------   -----  \n",
      " 0   age_6              19184 non-null   float64\n",
      " 1   cma                103658 non-null  int64  \n",
      " 2   cma_name           103658 non-null  object \n",
      " 3   cowmain            67062 non-null   float64\n",
      " 4   cowmain_name       103658 non-null  object \n",
      " 5   educ               103658 non-null  int64  \n",
      " 6   full_naics_21      103658 non-null  object \n",
      " 7   immig              103658 non-null  object \n",
      " 8   index              103658 non-null  int64  \n",
      " 9   is_student         76893 non-null   float64\n",
      " 10  lfsstat            103658 non-null  int64  \n",
      " 11  naics_21           103658 non-null  object \n",
      " 12  prov               103658 non-null  int64  \n",
      " 13  prov_name          103658 non-null  object \n",
      " 14  schooln            76893 non-null   float64\n",
      " 15  sex                103658 non-null  object \n",
      " 16  student_full_time  9415 non-null    float64\n",
      " 17  uhrsmain           59943 non-null   float64\n",
      "dtypes: float64(6), int64(5), object(7)\n",
      "memory usage: 14.2+ MB\n"
     ]
    }
   ],
   "source": [
    "df.info()"
   ],
   "metadata": {
    "collapsed": false,
    "pycharm": {
     "name": "#%%\n"
    }
   }
  },
  {
   "cell_type": "markdown",
   "source": [
    "### Dataset first look\n",
    "The dataframe has a total of 18 different columns. Those columns only use the following types: `[object, int64 and float64]`. We can determine that the boolean values, for instance, `is_student` has been encoded to a float when importing the data in mysql.\n",
    "\n",
    "### Null and Non-null values\n",
    "A few columns with 103658 non-null values have null values at all since there is a total of 103658 entries.\n",
    "\n",
    "It is interesting to note that the new columns we have created in the cleaning process have no non-null values, since the mapping from the source column includes setting a non-null value even when the source value in `NaN.\n",
    "\n",
    "For instance, if the original value for `cowmain` is `NaN`, the corresponding `cowmain_name` would be `'Not applicable'`\n",
    "\n",
    "### Other observations\n",
    "We also note that the source data has some columns such as `age_6` which is missing source information since we would expect any person to have an age. This would probably be attributable to the inability to acquire this data during the data collection phase, when creating the dataset."
   ],
   "metadata": {
    "collapsed": false,
    "pycharm": {
     "name": "#%% md\n"
    }
   }
  },
  {
   "cell_type": "markdown",
   "source": [
    "### Let's fix the boolean conversion issue for is_student"
   ],
   "metadata": {
    "collapsed": false,
    "pycharm": {
     "name": "#%% md\n"
    }
   }
  },
  {
   "cell_type": "code",
   "execution_count": 7,
   "outputs": [],
   "source": [
    "df['is_student'] = df['is_student'].map(lambda x: bool(x))"
   ],
   "metadata": {
    "collapsed": false,
    "pycharm": {
     "name": "#%%\n"
    }
   }
  },
  {
   "cell_type": "code",
   "execution_count": 8,
   "outputs": [
    {
     "data": {
      "text/plain": "is_student    1586\ndtype: int64"
     },
     "execution_count": 8,
     "metadata": {},
     "output_type": "execute_result"
    }
   ],
   "source": [
    "df['is_student'].to_frame().query('is_student != True').count()\n"
   ],
   "metadata": {
    "collapsed": false,
    "pycharm": {
     "name": "#%%\n"
    }
   }
  },
  {
   "cell_type": "code",
   "execution_count": 9,
   "outputs": [
    {
     "data": {
      "text/plain": "is_student    102072\ndtype: int64"
     },
     "execution_count": 9,
     "metadata": {},
     "output_type": "execute_result"
    }
   ],
   "source": [
    "df['is_student'].to_frame().query('is_student == True').count()\n"
   ],
   "metadata": {
    "collapsed": false,
    "pycharm": {
     "name": "#%%\n"
    }
   }
  },
  {
   "cell_type": "markdown",
   "source": [
    "This leaves the question: is almost everyone a student? Was there an issue? Why such discrepancies between students and non-students?"
   ],
   "metadata": {
    "collapsed": false,
    "pycharm": {
     "name": "#%% md\n"
    }
   }
  },
  {
   "cell_type": "markdown",
   "source": [
    "## Gender distribution"
   ],
   "metadata": {
    "collapsed": false
   }
  },
  {
   "cell_type": "markdown",
   "source": [
    "### Distribution of gender per province"
   ],
   "metadata": {
    "collapsed": false
   }
  },
  {
   "cell_type": "code",
   "execution_count": 279,
   "outputs": [
    {
     "data": {
      "text/plain": "prov_name  sex\nAB         F       4030\n           M       3945\nBC         F       6804\n           M       6191\nMB         F       4357\n           M       4147\nND         F       2854\n           M       2612\nNL         F       2107\n           M       1963\nNS         F       2776\n           M       2485\nON         F      16515\n           M      15515\nPE         F       1167\n           M       1085\nQC         F       9940\n           M       9476\nSK         F       2941\n           M       2748\ndtype: int64"
     },
     "execution_count": 279,
     "metadata": {},
     "output_type": "execute_result"
    }
   ],
   "source": [
    "genderPerProv = df[['sex', 'prov_name']].groupby('prov_name').value_counts()\n",
    "genderPerProv"
   ],
   "metadata": {
    "collapsed": false,
    "pycharm": {
     "name": "#%%\n"
    }
   }
  },
  {
   "cell_type": "markdown",
   "source": [
    "### Distribution of gender in Quebec"
   ],
   "metadata": {
    "collapsed": false,
    "pycharm": {
     "name": "#%% md\n"
    }
   }
  },
  {
   "cell_type": "code",
   "execution_count": 289,
   "outputs": [
    {
     "data": {
      "text/plain": "F    9940\nM    9476\nName: sex, dtype: int64"
     },
     "execution_count": 289,
     "metadata": {},
     "output_type": "execute_result"
    }
   ],
   "source": [
    "genderInQc = df[df['prov_name'] == \"QC\"]['sex'] #.value_counts()\n",
    "distGenderInQc = genderInQc.value_counts()\n",
    "distGenderInQc"
   ],
   "metadata": {
    "collapsed": false,
    "pycharm": {
     "name": "#%%\n"
    }
   }
  },
  {
   "cell_type": "markdown",
   "source": [
    "## What is the labour force status, per province, for all the workers?"
   ],
   "metadata": {
    "collapsed": false,
    "pycharm": {
     "name": "#%% md\n"
    }
   }
  },
  {
   "cell_type": "code",
   "execution_count": 12,
   "outputs": [
    {
     "data": {
      "text/plain": "prov_name  lfsstat\nAB         1           4603\n           3            360\n           2            351\nBC         1           7066\n           2            540\n           3            386\nMB         1           4782\n           2            363\n           3            236\nND         1           2581\n           3            258\n           2            249\nNL         1           1863\n           3            262\n           2            193\nNS         1           2513\n           2            225\n           3            214\nON         1          17136\n           2           1392\n           3           1051\nPE         1           1135\n           3            149\n           2             96\nQC         1          10369\n           2            945\n           3            540\nSK         1           3228\n           2            313\n           3            174\ndtype: int64"
     },
     "execution_count": 12,
     "metadata": {},
     "output_type": "execute_result"
    }
   ],
   "source": [
    "# 14,1,2017,, lfsstat    ,Labour force status,Situation d'activit�,,,,,,,,,\n",
    "# ,,,,,,,,,,,1,\"Employed, at work\",\"Personnes occup�es, au travail\",,\n",
    "# ,,,,,,,,,,,2,\"Employed, absent from work\",\"Personnes occup�es, absentes du travail\",,\n",
    "# ,,,,,,,,,,,3,Unemployed,Ch�meurs,,\n",
    "# ,,,,,,,,,,,4,Not in labour force,Inactifs,,\n",
    "\n",
    "# We exclude lfsstat == 4 since this means the person is not in workforce, therefore not a worker\n",
    "df.query('lfsstat != 4')[['lfsstat', 'prov_name']].groupby('prov_name').value_counts()"
   ],
   "metadata": {
    "collapsed": false,
    "pycharm": {
     "name": "#%%\n"
    }
   }
  },
  {
   "cell_type": "markdown",
   "source": [
    "## What is the student status of students per age group?\n",
    "### For example, you would be able to say “x% of people between 25 to 26 are students."
   ],
   "metadata": {
    "collapsed": false,
    "pycharm": {
     "name": "#%% md\n",
     "is_executing": true
    }
   }
  },
  {
   "cell_type": "code",
   "execution_count": 28,
   "outputs": [],
   "source": [
    "# Grouping student status per age group\n",
    "students_per_age_group_df = df[['age_6', 'is_student']].groupby('age_6').value_counts().to_frame()"
   ],
   "metadata": {
    "collapsed": false,
    "pycharm": {
     "name": "#%%\n"
    }
   }
  },
  {
   "cell_type": "code",
   "execution_count": 66,
   "outputs": [
    {
     "name": "stdout",
     "output_type": "stream",
     "text": [
      "95.85215605749487\n"
     ]
    }
   ],
   "source": [
    "# Grouping student status for people between 25 and 26\n",
    "# age_6 refers to \"Age in 2 and 3 year groups, 15 to 29\". age_6 value 5 means 25 to 26 years\n",
    "studentsCount = students_per_age_group_df.query('age_6 == 5 and is_student == True').values[0][0]\n",
    "totalRespondantsForAgeGroup = students_per_age_group_df.query('age_6 == 5').sum(0).values[0]\n",
    "studentPercentage = studentsCount / totalRespondantsForAgeGroup * 100\n",
    "print(studentPercentage)"
   ],
   "metadata": {
    "collapsed": false,
    "pycharm": {
     "name": "#%%\n"
    }
   }
  },
  {
   "cell_type": "markdown",
   "source": [
    "### “x% of people between 25 to 26 are students per province"
   ],
   "metadata": {
    "collapsed": false,
    "pycharm": {
     "name": "#%% md\n"
    }
   }
  },
  {
   "cell_type": "code",
   "execution_count": 218,
   "outputs": [
    {
     "data": {
      "text/plain": "           total_respondants\nprov_name                   \nAB                       181\nBC                       319\nMB                       232\nND                       106\nNL                        78\nNS                       130\nON                       768\nPE                        49\nQC                       416\nSK                       156",
      "text/html": "<div>\n<style scoped>\n    .dataframe tbody tr th:only-of-type {\n        vertical-align: middle;\n    }\n\n    .dataframe tbody tr th {\n        vertical-align: top;\n    }\n\n    .dataframe thead th {\n        text-align: right;\n    }\n</style>\n<table border=\"1\" class=\"dataframe\">\n  <thead>\n    <tr style=\"text-align: right;\">\n      <th></th>\n      <th>total_respondants</th>\n    </tr>\n    <tr>\n      <th>prov_name</th>\n      <th></th>\n    </tr>\n  </thead>\n  <tbody>\n    <tr>\n      <th>AB</th>\n      <td>181</td>\n    </tr>\n    <tr>\n      <th>BC</th>\n      <td>319</td>\n    </tr>\n    <tr>\n      <th>MB</th>\n      <td>232</td>\n    </tr>\n    <tr>\n      <th>ND</th>\n      <td>106</td>\n    </tr>\n    <tr>\n      <th>NL</th>\n      <td>78</td>\n    </tr>\n    <tr>\n      <th>NS</th>\n      <td>130</td>\n    </tr>\n    <tr>\n      <th>ON</th>\n      <td>768</td>\n    </tr>\n    <tr>\n      <th>PE</th>\n      <td>49</td>\n    </tr>\n    <tr>\n      <th>QC</th>\n      <td>416</td>\n    </tr>\n    <tr>\n      <th>SK</th>\n      <td>156</td>\n    </tr>\n  </tbody>\n</table>\n</div>"
     },
     "execution_count": 218,
     "metadata": {},
     "output_type": "execute_result"
    }
   ],
   "source": [
    "totalRespondantsForAgeGroupPerProvince = df[['age_6', 'prov_name']].query('age_6 == 5').groupby('prov_name').count()\n",
    "totalRespondantsForAgeGroupPerProvince['total_respondants'] = totalRespondantsForAgeGroupPerProvince['age_6']\n"
   ],
   "metadata": {
    "collapsed": false,
    "pycharm": {
     "name": "#%%\n"
    }
   }
  },
  {
   "cell_type": "markdown",
   "source": [],
   "metadata": {
    "collapsed": false
   }
  },
  {
   "cell_type": "code",
   "execution_count": 224,
   "outputs": [],
   "source": [
    "numberStudentsPerProv = df[['age_6', 'is_student', 'prov_name']].query('(age_6 == 5.0) and (is_student == True)').groupby('prov_name').count().drop('age_6', axis=1)\n"
   ],
   "metadata": {
    "collapsed": false,
    "pycharm": {
     "name": "#%%\n"
    }
   }
  },
  {
   "cell_type": "code",
   "execution_count": 247,
   "outputs": [
    {
     "data": {
      "text/plain": "           total_respondants  is_student  student_percentage\nprov_name                                                   \nAB                       181         178           98.342541\nBC                       319         306           95.924765\nMB                       232         214           92.241379\nND                       106         102           96.226415\nNL                        78          75           96.153846\nNS                       130         129           99.230769\nON                       768         733           95.442708\nPE                        49          48           97.959184\nQC                       416         394           94.711538\nSK                       156         155           99.358974",
      "text/html": "<div>\n<style scoped>\n    .dataframe tbody tr th:only-of-type {\n        vertical-align: middle;\n    }\n\n    .dataframe tbody tr th {\n        vertical-align: top;\n    }\n\n    .dataframe thead th {\n        text-align: right;\n    }\n</style>\n<table border=\"1\" class=\"dataframe\">\n  <thead>\n    <tr style=\"text-align: right;\">\n      <th></th>\n      <th>total_respondants</th>\n      <th>is_student</th>\n      <th>student_percentage</th>\n    </tr>\n    <tr>\n      <th>prov_name</th>\n      <th></th>\n      <th></th>\n      <th></th>\n    </tr>\n  </thead>\n  <tbody>\n    <tr>\n      <th>AB</th>\n      <td>181</td>\n      <td>178</td>\n      <td>98.342541</td>\n    </tr>\n    <tr>\n      <th>BC</th>\n      <td>319</td>\n      <td>306</td>\n      <td>95.924765</td>\n    </tr>\n    <tr>\n      <th>MB</th>\n      <td>232</td>\n      <td>214</td>\n      <td>92.241379</td>\n    </tr>\n    <tr>\n      <th>ND</th>\n      <td>106</td>\n      <td>102</td>\n      <td>96.226415</td>\n    </tr>\n    <tr>\n      <th>NL</th>\n      <td>78</td>\n      <td>75</td>\n      <td>96.153846</td>\n    </tr>\n    <tr>\n      <th>NS</th>\n      <td>130</td>\n      <td>129</td>\n      <td>99.230769</td>\n    </tr>\n    <tr>\n      <th>ON</th>\n      <td>768</td>\n      <td>733</td>\n      <td>95.442708</td>\n    </tr>\n    <tr>\n      <th>PE</th>\n      <td>49</td>\n      <td>48</td>\n      <td>97.959184</td>\n    </tr>\n    <tr>\n      <th>QC</th>\n      <td>416</td>\n      <td>394</td>\n      <td>94.711538</td>\n    </tr>\n    <tr>\n      <th>SK</th>\n      <td>156</td>\n      <td>155</td>\n      <td>99.358974</td>\n    </tr>\n  </tbody>\n</table>\n</div>"
     },
     "execution_count": 247,
     "metadata": {},
     "output_type": "execute_result"
    }
   ],
   "source": [
    "\n",
    "percentages = totalRespondantsForAgeGroupPerProvince.drop('age_6', axis=1).merge(\n",
    "    numberStudentsPerProv,\n",
    "    on='prov_name'\n",
    ")\n",
    "percentages['student_percentage'] = (percentages['is_student'] / percentages['total_respondants']) * 100\n",
    "percentages\n"
   ],
   "metadata": {
    "collapsed": false,
    "pycharm": {
     "name": "#%%\n"
    }
   }
  },
  {
   "cell_type": "markdown",
   "source": [
    "### Display the student percentages per province visually"
   ],
   "metadata": {
    "collapsed": false,
    "pycharm": {
     "name": "#%% md\n"
    }
   }
  },
  {
   "cell_type": "code",
   "execution_count": 293,
   "outputs": [
    {
     "ename": "ValueError",
     "evalue": "The truth value of an array with more than one element is ambiguous. Use a.any() or a.all()",
     "output_type": "error",
     "traceback": [
      "\u001B[0;31m---------------------------------------------------------------------------\u001B[0m",
      "\u001B[0;31mValueError\u001B[0m                                Traceback (most recent call last)",
      "Input \u001B[0;32mIn [293]\u001B[0m, in \u001B[0;36m<cell line: 1>\u001B[0;34m()\u001B[0m\n\u001B[0;32m----> 1\u001B[0m plot \u001B[38;5;241m=\u001B[39m \u001B[43msns\u001B[49m\u001B[38;5;241;43m.\u001B[39;49m\u001B[43mcatplot\u001B[49m\u001B[43m(\u001B[49m\u001B[43mdata\u001B[49m\u001B[38;5;241;43m=\u001B[39;49m\u001B[43mpercentages\u001B[49m\u001B[43m,\u001B[49m\u001B[43m \u001B[49m\u001B[43mx\u001B[49m\u001B[38;5;241;43m=\u001B[39;49m\u001B[43mpercentages\u001B[49m\u001B[38;5;241;43m.\u001B[39;49m\u001B[43mindex\u001B[49m\u001B[43m,\u001B[49m\u001B[43m \u001B[49m\u001B[43my\u001B[49m\u001B[38;5;241;43m=\u001B[39;49m\u001B[43mpercentages\u001B[49m\u001B[38;5;241;43m.\u001B[39;49m\u001B[43mstudent_percentage\u001B[49m\u001B[43m,\u001B[49m\u001B[43m \u001B[49m\u001B[43mkind\u001B[49m\u001B[38;5;241;43m=\u001B[39;49m\u001B[38;5;124;43m\"\u001B[39;49m\u001B[38;5;124;43mbar\u001B[39;49m\u001B[38;5;124;43m\"\u001B[39;49m\u001B[43m,\u001B[49m\u001B[43m \u001B[49m\u001B[43morder\u001B[49m\u001B[38;5;241;43m=\u001B[39;49m\u001B[43mpercentages\u001B[49m\u001B[38;5;241;43m.\u001B[39;49m\u001B[43msort_values\u001B[49m\u001B[43m(\u001B[49m\u001B[38;5;124;43m'\u001B[39;49m\u001B[38;5;124;43mstudent_percentage\u001B[39;49m\u001B[38;5;124;43m'\u001B[39;49m\u001B[43m)\u001B[49m\u001B[38;5;241;43m.\u001B[39;49m\u001B[43mindex\u001B[49m\u001B[43m)\u001B[49m\n\u001B[1;32m      2\u001B[0m plot\u001B[38;5;241m.\u001B[39mset_ylim(\u001B[38;5;241m90\u001B[39m, \u001B[38;5;241m100\u001B[39m)\n",
      "File \u001B[0;32m/home/ubuntu/anaconda3/lib/python3.9/site-packages/seaborn/_decorators.py:46\u001B[0m, in \u001B[0;36m_deprecate_positional_args.<locals>.inner_f\u001B[0;34m(*args, **kwargs)\u001B[0m\n\u001B[1;32m     36\u001B[0m     warnings\u001B[38;5;241m.\u001B[39mwarn(\n\u001B[1;32m     37\u001B[0m         \u001B[38;5;124m\"\u001B[39m\u001B[38;5;124mPass the following variable\u001B[39m\u001B[38;5;132;01m{}\u001B[39;00m\u001B[38;5;124m as \u001B[39m\u001B[38;5;132;01m{}\u001B[39;00m\u001B[38;5;124mkeyword arg\u001B[39m\u001B[38;5;132;01m{}\u001B[39;00m\u001B[38;5;124m: \u001B[39m\u001B[38;5;132;01m{}\u001B[39;00m\u001B[38;5;124m. \u001B[39m\u001B[38;5;124m\"\u001B[39m\n\u001B[1;32m     38\u001B[0m         \u001B[38;5;124m\"\u001B[39m\u001B[38;5;124mFrom version 0.12, the only valid positional argument \u001B[39m\u001B[38;5;124m\"\u001B[39m\n\u001B[0;32m   (...)\u001B[0m\n\u001B[1;32m     43\u001B[0m         \u001B[38;5;167;01mFutureWarning\u001B[39;00m\n\u001B[1;32m     44\u001B[0m     )\n\u001B[1;32m     45\u001B[0m kwargs\u001B[38;5;241m.\u001B[39mupdate({k: arg \u001B[38;5;28;01mfor\u001B[39;00m k, arg \u001B[38;5;129;01min\u001B[39;00m \u001B[38;5;28mzip\u001B[39m(sig\u001B[38;5;241m.\u001B[39mparameters, args)})\n\u001B[0;32m---> 46\u001B[0m \u001B[38;5;28;01mreturn\u001B[39;00m \u001B[43mf\u001B[49m\u001B[43m(\u001B[49m\u001B[38;5;241;43m*\u001B[39;49m\u001B[38;5;241;43m*\u001B[39;49m\u001B[43mkwargs\u001B[49m\u001B[43m)\u001B[49m\n",
      "File \u001B[0;32m/home/ubuntu/anaconda3/lib/python3.9/site-packages/seaborn/categorical.py:3847\u001B[0m, in \u001B[0;36mcatplot\u001B[0;34m(x, y, hue, data, row, col, col_wrap, estimator, ci, n_boot, units, seed, order, hue_order, row_order, col_order, kind, height, aspect, orient, color, palette, legend, legend_out, sharex, sharey, margin_titles, facet_kws, **kwargs)\u001B[0m\n\u001B[1;32m   3844\u001B[0m g \u001B[38;5;241m=\u001B[39m FacetGrid(\u001B[38;5;241m*\u001B[39m\u001B[38;5;241m*\u001B[39mfacet_kws)\n\u001B[1;32m   3846\u001B[0m \u001B[38;5;66;03m# Draw the plot onto the facets\u001B[39;00m\n\u001B[0;32m-> 3847\u001B[0m \u001B[43mg\u001B[49m\u001B[38;5;241;43m.\u001B[39;49m\u001B[43mmap_dataframe\u001B[49m\u001B[43m(\u001B[49m\u001B[43mplot_func\u001B[49m\u001B[43m,\u001B[49m\u001B[43m \u001B[49m\u001B[43mx\u001B[49m\u001B[38;5;241;43m=\u001B[39;49m\u001B[43mx\u001B[49m\u001B[43m,\u001B[49m\u001B[43m \u001B[49m\u001B[43my\u001B[49m\u001B[38;5;241;43m=\u001B[39;49m\u001B[43my\u001B[49m\u001B[43m,\u001B[49m\u001B[43m \u001B[49m\u001B[43mhue\u001B[49m\u001B[38;5;241;43m=\u001B[39;49m\u001B[43mhue\u001B[49m\u001B[43m,\u001B[49m\u001B[43m \u001B[49m\u001B[38;5;241;43m*\u001B[39;49m\u001B[38;5;241;43m*\u001B[39;49m\u001B[43mplot_kws\u001B[49m\u001B[43m)\u001B[49m\n\u001B[1;32m   3849\u001B[0m \u001B[38;5;28;01mif\u001B[39;00m p\u001B[38;5;241m.\u001B[39morient \u001B[38;5;241m==\u001B[39m \u001B[38;5;124m\"\u001B[39m\u001B[38;5;124mh\u001B[39m\u001B[38;5;124m\"\u001B[39m:\n\u001B[1;32m   3850\u001B[0m     g\u001B[38;5;241m.\u001B[39mset_axis_labels(p\u001B[38;5;241m.\u001B[39mvalue_label, p\u001B[38;5;241m.\u001B[39mgroup_label)\n",
      "File \u001B[0;32m/home/ubuntu/anaconda3/lib/python3.9/site-packages/seaborn/axisgrid.py:784\u001B[0m, in \u001B[0;36mFacetGrid.map_dataframe\u001B[0;34m(self, func, *args, **kwargs)\u001B[0m\n\u001B[1;32m    782\u001B[0m \u001B[38;5;28;01mfor\u001B[39;00m i, val \u001B[38;5;129;01min\u001B[39;00m \u001B[38;5;28menumerate\u001B[39m(args[:\u001B[38;5;241m2\u001B[39m]):\n\u001B[1;32m    783\u001B[0m     axis_labels[i] \u001B[38;5;241m=\u001B[39m val\n\u001B[0;32m--> 784\u001B[0m \u001B[38;5;28;43mself\u001B[39;49m\u001B[38;5;241;43m.\u001B[39;49m\u001B[43m_finalize_grid\u001B[49m\u001B[43m(\u001B[49m\u001B[43maxis_labels\u001B[49m\u001B[43m)\u001B[49m\n\u001B[1;32m    786\u001B[0m \u001B[38;5;28;01mreturn\u001B[39;00m \u001B[38;5;28mself\u001B[39m\n",
      "File \u001B[0;32m/home/ubuntu/anaconda3/lib/python3.9/site-packages/seaborn/axisgrid.py:813\u001B[0m, in \u001B[0;36mFacetGrid._finalize_grid\u001B[0;34m(self, axlabels)\u001B[0m\n\u001B[1;32m    811\u001B[0m \u001B[38;5;28;01mdef\u001B[39;00m \u001B[38;5;21m_finalize_grid\u001B[39m(\u001B[38;5;28mself\u001B[39m, axlabels):\n\u001B[1;32m    812\u001B[0m     \u001B[38;5;124;03m\"\"\"Finalize the annotations and layout.\"\"\"\u001B[39;00m\n\u001B[0;32m--> 813\u001B[0m     \u001B[38;5;28;43mself\u001B[39;49m\u001B[38;5;241;43m.\u001B[39;49m\u001B[43mset_axis_labels\u001B[49m\u001B[43m(\u001B[49m\u001B[38;5;241;43m*\u001B[39;49m\u001B[43maxlabels\u001B[49m\u001B[43m)\u001B[49m\n\u001B[1;32m    814\u001B[0m     \u001B[38;5;28mself\u001B[39m\u001B[38;5;241m.\u001B[39mset_titles()\n\u001B[1;32m    815\u001B[0m     \u001B[38;5;28mself\u001B[39m\u001B[38;5;241m.\u001B[39mtight_layout()\n",
      "File \u001B[0;32m/home/ubuntu/anaconda3/lib/python3.9/site-packages/seaborn/axisgrid.py:840\u001B[0m, in \u001B[0;36mFacetGrid.set_axis_labels\u001B[0;34m(self, x_var, y_var, clear_inner, **kwargs)\u001B[0m\n\u001B[1;32m    838\u001B[0m \u001B[38;5;28;01mif\u001B[39;00m x_var \u001B[38;5;129;01mis\u001B[39;00m \u001B[38;5;129;01mnot\u001B[39;00m \u001B[38;5;28;01mNone\u001B[39;00m:\n\u001B[1;32m    839\u001B[0m     \u001B[38;5;28mself\u001B[39m\u001B[38;5;241m.\u001B[39m_x_var \u001B[38;5;241m=\u001B[39m x_var\n\u001B[0;32m--> 840\u001B[0m     \u001B[38;5;28;43mself\u001B[39;49m\u001B[38;5;241;43m.\u001B[39;49m\u001B[43mset_xlabels\u001B[49m\u001B[43m(\u001B[49m\u001B[43mx_var\u001B[49m\u001B[43m,\u001B[49m\u001B[43m \u001B[49m\u001B[43mclear_inner\u001B[49m\u001B[38;5;241;43m=\u001B[39;49m\u001B[43mclear_inner\u001B[49m\u001B[43m,\u001B[49m\u001B[43m \u001B[49m\u001B[38;5;241;43m*\u001B[39;49m\u001B[38;5;241;43m*\u001B[39;49m\u001B[43mkwargs\u001B[49m\u001B[43m)\u001B[49m\n\u001B[1;32m    841\u001B[0m \u001B[38;5;28;01mif\u001B[39;00m y_var \u001B[38;5;129;01mis\u001B[39;00m \u001B[38;5;129;01mnot\u001B[39;00m \u001B[38;5;28;01mNone\u001B[39;00m:\n\u001B[1;32m    842\u001B[0m     \u001B[38;5;28mself\u001B[39m\u001B[38;5;241m.\u001B[39m_y_var \u001B[38;5;241m=\u001B[39m y_var\n",
      "File \u001B[0;32m/home/ubuntu/anaconda3/lib/python3.9/site-packages/seaborn/axisgrid.py:852\u001B[0m, in \u001B[0;36mFacetGrid.set_xlabels\u001B[0;34m(self, label, clear_inner, **kwargs)\u001B[0m\n\u001B[1;32m    850\u001B[0m     label \u001B[38;5;241m=\u001B[39m \u001B[38;5;28mself\u001B[39m\u001B[38;5;241m.\u001B[39m_x_var\n\u001B[1;32m    851\u001B[0m \u001B[38;5;28;01mfor\u001B[39;00m ax \u001B[38;5;129;01min\u001B[39;00m \u001B[38;5;28mself\u001B[39m\u001B[38;5;241m.\u001B[39m_bottom_axes:\n\u001B[0;32m--> 852\u001B[0m     \u001B[43max\u001B[49m\u001B[38;5;241;43m.\u001B[39;49m\u001B[43mset_xlabel\u001B[49m\u001B[43m(\u001B[49m\u001B[43mlabel\u001B[49m\u001B[43m,\u001B[49m\u001B[43m \u001B[49m\u001B[38;5;241;43m*\u001B[39;49m\u001B[38;5;241;43m*\u001B[39;49m\u001B[43mkwargs\u001B[49m\u001B[43m)\u001B[49m\n\u001B[1;32m    853\u001B[0m \u001B[38;5;28;01mif\u001B[39;00m clear_inner:\n\u001B[1;32m    854\u001B[0m     \u001B[38;5;28;01mfor\u001B[39;00m ax \u001B[38;5;129;01min\u001B[39;00m \u001B[38;5;28mself\u001B[39m\u001B[38;5;241m.\u001B[39m_not_bottom_axes:\n",
      "File \u001B[0;32m/home/ubuntu/anaconda3/lib/python3.9/site-packages/matplotlib/axes/_base.py:3504\u001B[0m, in \u001B[0;36m_AxesBase.set_xlabel\u001B[0;34m(self, xlabel, fontdict, labelpad, loc, **kwargs)\u001B[0m\n\u001B[1;32m   3501\u001B[0m     \u001B[38;5;28;01melif\u001B[39;00m loc \u001B[38;5;241m==\u001B[39m \u001B[38;5;124m'\u001B[39m\u001B[38;5;124mright\u001B[39m\u001B[38;5;124m'\u001B[39m:\n\u001B[1;32m   3502\u001B[0m         kwargs\u001B[38;5;241m.\u001B[39mupdate(x\u001B[38;5;241m=\u001B[39m\u001B[38;5;241m1\u001B[39m, horizontalalignment\u001B[38;5;241m=\u001B[39m\u001B[38;5;124m'\u001B[39m\u001B[38;5;124mright\u001B[39m\u001B[38;5;124m'\u001B[39m)\n\u001B[0;32m-> 3504\u001B[0m \u001B[38;5;28;01mreturn\u001B[39;00m \u001B[38;5;28;43mself\u001B[39;49m\u001B[38;5;241;43m.\u001B[39;49m\u001B[43mxaxis\u001B[49m\u001B[38;5;241;43m.\u001B[39;49m\u001B[43mset_label_text\u001B[49m\u001B[43m(\u001B[49m\u001B[43mxlabel\u001B[49m\u001B[43m,\u001B[49m\u001B[43m \u001B[49m\u001B[43mfontdict\u001B[49m\u001B[43m,\u001B[49m\u001B[43m \u001B[49m\u001B[38;5;241;43m*\u001B[39;49m\u001B[38;5;241;43m*\u001B[39;49m\u001B[43mkwargs\u001B[49m\u001B[43m)\u001B[49m\n",
      "File \u001B[0;32m/home/ubuntu/anaconda3/lib/python3.9/site-packages/matplotlib/axis.py:1560\u001B[0m, in \u001B[0;36mAxis.set_label_text\u001B[0;34m(self, label, fontdict, **kwargs)\u001B[0m\n\u001B[1;32m   1547\u001B[0m \u001B[38;5;124;03m\"\"\"\u001B[39;00m\n\u001B[1;32m   1548\u001B[0m \u001B[38;5;124;03mSet the text value of the axis label.\u001B[39;00m\n\u001B[1;32m   1549\u001B[0m \n\u001B[0;32m   (...)\u001B[0m\n\u001B[1;32m   1557\u001B[0m \u001B[38;5;124;03m    Merged into fontdict.\u001B[39;00m\n\u001B[1;32m   1558\u001B[0m \u001B[38;5;124;03m\"\"\"\u001B[39;00m\n\u001B[1;32m   1559\u001B[0m \u001B[38;5;28mself\u001B[39m\u001B[38;5;241m.\u001B[39misDefault_label \u001B[38;5;241m=\u001B[39m \u001B[38;5;28;01mFalse\u001B[39;00m\n\u001B[0;32m-> 1560\u001B[0m \u001B[38;5;28;43mself\u001B[39;49m\u001B[38;5;241;43m.\u001B[39;49m\u001B[43mlabel\u001B[49m\u001B[38;5;241;43m.\u001B[39;49m\u001B[43mset_text\u001B[49m\u001B[43m(\u001B[49m\u001B[43mlabel\u001B[49m\u001B[43m)\u001B[49m\n\u001B[1;32m   1561\u001B[0m \u001B[38;5;28;01mif\u001B[39;00m fontdict \u001B[38;5;129;01mis\u001B[39;00m \u001B[38;5;129;01mnot\u001B[39;00m \u001B[38;5;28;01mNone\u001B[39;00m:\n\u001B[1;32m   1562\u001B[0m     \u001B[38;5;28mself\u001B[39m\u001B[38;5;241m.\u001B[39mlabel\u001B[38;5;241m.\u001B[39mupdate(fontdict)\n",
      "File \u001B[0;32m/home/ubuntu/anaconda3/lib/python3.9/site-packages/matplotlib/text.py:1223\u001B[0m, in \u001B[0;36mText.set_text\u001B[0;34m(self, s)\u001B[0m\n\u001B[1;32m   1221\u001B[0m \u001B[38;5;28;01mif\u001B[39;00m s \u001B[38;5;129;01mis\u001B[39;00m \u001B[38;5;28;01mNone\u001B[39;00m:\n\u001B[1;32m   1222\u001B[0m     s \u001B[38;5;241m=\u001B[39m \u001B[38;5;124m'\u001B[39m\u001B[38;5;124m'\u001B[39m\n\u001B[0;32m-> 1223\u001B[0m \u001B[38;5;28;01mif\u001B[39;00m s \u001B[38;5;241m!=\u001B[39m \u001B[38;5;28mself\u001B[39m\u001B[38;5;241m.\u001B[39m_text:\n\u001B[1;32m   1224\u001B[0m     \u001B[38;5;28mself\u001B[39m\u001B[38;5;241m.\u001B[39m_text \u001B[38;5;241m=\u001B[39m \u001B[38;5;28mstr\u001B[39m(s)\n\u001B[1;32m   1225\u001B[0m     \u001B[38;5;28mself\u001B[39m\u001B[38;5;241m.\u001B[39mstale \u001B[38;5;241m=\u001B[39m \u001B[38;5;28;01mTrue\u001B[39;00m\n",
      "\u001B[0;31mValueError\u001B[0m: The truth value of an array with more than one element is ambiguous. Use a.any() or a.all()"
     ]
    },
    {
     "data": {
      "text/plain": "<Figure size 360x360 with 1 Axes>",
      "image/png": "[encoded data removed]"
     },
     "metadata": {
      "needs_background": "light"
     },
     "output_type": "display_data"
    }
   ],
   "source": [
    "plot = sns.catplot(data=percentages, x=percentages.index, y=percentages.student_percentage, kind=\"bar\", order=percentages.sort_values('student_percentage').index)\n"
   ],
   "metadata": {
    "collapsed": false,
    "pycharm": {
     "name": "#%%\n"
    }
   }
  },
  {
   "cell_type": "code",
   "execution_count": 292,
   "outputs": [
    {
     "data": {
      "text/plain": "<AxesSubplot:title={'center':'Gender Distribution in Quebec'}, ylabel='sex'>"
     },
     "execution_count": 292,
     "metadata": {},
     "output_type": "execute_result"
    },
    {
     "data": {
      "text/plain": "<Figure size 432x288 with 1 Axes>",
      "image/png": "[encoded data removed]"
     },
     "metadata": {},
     "output_type": "display_data"
    }
   ],
   "source": [
    "distGenderInQc.plot(kind=\"pie\", title=\"Gender Distribution in Quebec\")"
   ],
   "metadata": {
    "collapsed": false,
    "pycharm": {
     "name": "#%%\n"
    }
   }
  },
  {
   "cell_type": "markdown",
   "source": [
    "### Note"
   ],
   "metadata": {
    "collapsed": false
   }
  },
  {
   "cell_type": "markdown",
   "source": [
    "I hope this fulfills the expectations. My partner caught COVID this week and I have been camping in the lounge. On top of this, we were releasing an overdue reporting solution for clients this week, so I haven't had as much time and concentration to dedicate to this project. Thanks for your understanding and for the semester."
   ],
   "metadata": {
    "collapsed": false,
    "pycharm": {
     "name": "#%% md\n"
    }
   }
  }
 ],
 "metadata": {
  "kernelspec": {
   "display_name": "Python 3",
   "language": "python",
   "name": "python3"
  },
  "language_info": {
   "codemirror_mode": {
    "name": "ipython",
    "version": 2
   },
   "file_extension": ".py",
   "mimetype": "text/x-python",
   "name": "python",
   "nbconvert_exporter": "python",
   "pygments_lexer": "ipython2",
   "version": "2.7.6"
  }
 },
 "nbformat": 4,
 "nbformat_minor": 0
}