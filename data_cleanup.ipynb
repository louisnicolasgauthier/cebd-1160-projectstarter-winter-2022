{
 "cells": [
  {
   "cell_type": "code",
   "execution_count": 41,
   "metadata": {
    "collapsed": true
   },
   "outputs": [],
   "source": [
    "import pandas as pd\n",
    "import numpy as np"
   ]
  },
  {
   "cell_type": "code",
   "execution_count": 28,
   "outputs": [],
   "source": [
    "df = pd.read_csv('./data/finalproject/pub0222.csv')"
   ],
   "metadata": {
    "collapsed": false,
    "pycharm": {
     "name": "#%%\n"
    }
   }
  },
  {
   "cell_type": "code",
   "execution_count": 29,
   "outputs": [
    {
     "data": {
      "text/plain": "(103658, 60)"
     },
     "execution_count": 29,
     "metadata": {},
     "output_type": "execute_result"
    }
   ],
   "source": [
    "# Getting an idea of the size of the dataset\n",
    "df.shape"
   ],
   "metadata": {
    "collapsed": false,
    "pycharm": {
     "name": "#%%\n"
    }
   }
  },
  {
   "cell_type": "code",
   "execution_count": 30,
   "outputs": [
    {
     "data": {
      "text/plain": "   REC_NUM  SURVYEAR  SURVMNTH  LFSSTAT  PROV  CMA  AGE_12  AGE_6  SEX  \\\n0        1      2022         2        4    35    4       1    1.0    2   \n1        2      2022         2        4    10    0       2    4.0    2   \n2        3      2022         2        4    35    0       7    NaN    2   \n3        4      2022         2        4    24    2      12    NaN    1   \n4        5      2022         2        4    47    0      10    NaN    1   \n\n   MARSTAT  ...  LKATADS  LKANSADS  LKOTHERN  PRIORACT  YNOLOOK  TLOLOOK  \\\n0        6  ...      NaN       NaN       NaN       NaN      NaN      NaN   \n1        6  ...      NaN       NaN       NaN       NaN      NaN      NaN   \n2        1  ...      NaN       NaN       NaN       NaN      NaN      NaN   \n3        2  ...      NaN       NaN       NaN       NaN      NaN      NaN   \n4        1  ...      NaN       NaN       NaN       NaN      NaN      NaN   \n\n   SCHOOLN  EFAMTYPE  AGYOWNK  FINALWT  \n0      2.0        18      NaN     1168  \n1      2.0         1      NaN       76  \n2      1.0         6      2.0      422  \n3      NaN         8      NaN      290  \n4      1.0         8      NaN       81  \n\n[5 rows x 60 columns]",
      "text/html": "<div>\n<style scoped>\n    .dataframe tbody tr th:only-of-type {\n        vertical-align: middle;\n    }\n\n    .dataframe tbody tr th {\n        vertical-align: top;\n    }\n\n    .dataframe thead th {\n        text-align: right;\n    }\n</style>\n<table border=\"1\" class=\"dataframe\">\n  <thead>\n    <tr style=\"text-align: right;\">\n      <th></th>\n      <th>REC_NUM</th>\n      <th>SURVYEAR</th>\n      <th>SURVMNTH</th>\n      <th>LFSSTAT</th>\n      <th>PROV</th>\n      <th>CMA</th>\n      <th>AGE_12</th>\n      <th>AGE_6</th>\n      <th>SEX</th>\n      <th>MARSTAT</th>\n      <th>...</th>\n      <th>LKATADS</th>\n      <th>LKANSADS</th>\n      <th>LKOTHERN</th>\n      <th>PRIORACT</th>\n      <th>YNOLOOK</th>\n      <th>TLOLOOK</th>\n      <th>SCHOOLN</th>\n      <th>EFAMTYPE</th>\n      <th>AGYOWNK</th>\n      <th>FINALWT</th>\n    </tr>\n  </thead>\n  <tbody>\n    <tr>\n      <th>0</th>\n      <td>1</td>\n      <td>2022</td>\n      <td>2</td>\n      <td>4</td>\n      <td>35</td>\n      <td>4</td>\n      <td>1</td>\n      <td>1.0</td>\n      <td>2</td>\n      <td>6</td>\n      <td>...</td>\n      <td>NaN</td>\n      <td>NaN</td>\n      <td>NaN</td>\n      <td>NaN</td>\n      <td>NaN</td>\n      <td>NaN</td>\n      <td>2.0</td>\n      <td>18</td>\n      <td>NaN</td>\n      <td>1168</td>\n    </tr>\n    <tr>\n      <th>1</th>\n      <td>2</td>\n      <td>2022</td>\n      <td>2</td>\n      <td>4</td>\n      <td>10</td>\n      <td>0</td>\n      <td>2</td>\n      <td>4.0</td>\n      <td>2</td>\n      <td>6</td>\n      <td>...</td>\n      <td>NaN</td>\n      <td>NaN</td>\n      <td>NaN</td>\n      <td>NaN</td>\n      <td>NaN</td>\n      <td>NaN</td>\n      <td>2.0</td>\n      <td>1</td>\n      <td>NaN</td>\n      <td>76</td>\n    </tr>\n    <tr>\n      <th>2</th>\n      <td>3</td>\n      <td>2022</td>\n      <td>2</td>\n      <td>4</td>\n      <td>35</td>\n      <td>0</td>\n      <td>7</td>\n      <td>NaN</td>\n      <td>2</td>\n      <td>1</td>\n      <td>...</td>\n      <td>NaN</td>\n      <td>NaN</td>\n      <td>NaN</td>\n      <td>NaN</td>\n      <td>NaN</td>\n      <td>NaN</td>\n      <td>1.0</td>\n      <td>6</td>\n      <td>2.0</td>\n      <td>422</td>\n    </tr>\n    <tr>\n      <th>3</th>\n      <td>4</td>\n      <td>2022</td>\n      <td>2</td>\n      <td>4</td>\n      <td>24</td>\n      <td>2</td>\n      <td>12</td>\n      <td>NaN</td>\n      <td>1</td>\n      <td>2</td>\n      <td>...</td>\n      <td>NaN</td>\n      <td>NaN</td>\n      <td>NaN</td>\n      <td>NaN</td>\n      <td>NaN</td>\n      <td>NaN</td>\n      <td>NaN</td>\n      <td>8</td>\n      <td>NaN</td>\n      <td>290</td>\n    </tr>\n    <tr>\n      <th>4</th>\n      <td>5</td>\n      <td>2022</td>\n      <td>2</td>\n      <td>4</td>\n      <td>47</td>\n      <td>0</td>\n      <td>10</td>\n      <td>NaN</td>\n      <td>1</td>\n      <td>1</td>\n      <td>...</td>\n      <td>NaN</td>\n      <td>NaN</td>\n      <td>NaN</td>\n      <td>NaN</td>\n      <td>NaN</td>\n      <td>NaN</td>\n      <td>1.0</td>\n      <td>8</td>\n      <td>NaN</td>\n      <td>81</td>\n    </tr>\n  </tbody>\n</table>\n<p>5 rows × 60 columns</p>\n</div>"
     },
     "execution_count": 30,
     "metadata": {},
     "output_type": "execute_result"
    }
   ],
   "source": [
    "# Viewing a sample of data\n",
    "df.head()"
   ],
   "metadata": {
    "collapsed": false,
    "pycharm": {
     "name": "#%%\n"
    }
   }
  },
  {
   "cell_type": "code",
   "execution_count": 31,
   "outputs": [
    {
     "data": {
      "text/plain": "   rec_num  survyear  survmnth  lfsstat  prov  cma  age_12  age_6  sex  \\\n0        1      2022         2        4    35    4       1    1.0    2   \n1        2      2022         2        4    10    0       2    4.0    2   \n2        3      2022         2        4    35    0       7    NaN    2   \n3        4      2022         2        4    24    2      12    NaN    1   \n4        5      2022         2        4    47    0      10    NaN    1   \n\n   marstat  ...  lkatads  lkansads  lkothern  prioract  ynolook  tlolook  \\\n0        6  ...      NaN       NaN       NaN       NaN      NaN      NaN   \n1        6  ...      NaN       NaN       NaN       NaN      NaN      NaN   \n2        1  ...      NaN       NaN       NaN       NaN      NaN      NaN   \n3        2  ...      NaN       NaN       NaN       NaN      NaN      NaN   \n4        1  ...      NaN       NaN       NaN       NaN      NaN      NaN   \n\n   schooln  efamtype  agyownk  finalwt  \n0      2.0        18      NaN     1168  \n1      2.0         1      NaN       76  \n2      1.0         6      2.0      422  \n3      NaN         8      NaN      290  \n4      1.0         8      NaN       81  \n\n[5 rows x 60 columns]",
      "text/html": "<div>\n<style scoped>\n    .dataframe tbody tr th:only-of-type {\n        vertical-align: middle;\n    }\n\n    .dataframe tbody tr th {\n        vertical-align: top;\n    }\n\n    .dataframe thead th {\n        text-align: right;\n    }\n</style>\n<table border=\"1\" class=\"dataframe\">\n  <thead>\n    <tr style=\"text-align: right;\">\n      <th></th>\n      <th>rec_num</th>\n      <th>survyear</th>\n      <th>survmnth</th>\n      <th>lfsstat</th>\n      <th>prov</th>\n      <th>cma</th>\n      <th>age_12</th>\n      <th>age_6</th>\n      <th>sex</th>\n      <th>marstat</th>\n      <th>...</th>\n      <th>lkatads</th>\n      <th>lkansads</th>\n      <th>lkothern</th>\n      <th>prioract</th>\n      <th>ynolook</th>\n      <th>tlolook</th>\n      <th>schooln</th>\n      <th>efamtype</th>\n      <th>agyownk</th>\n      <th>finalwt</th>\n    </tr>\n  </thead>\n  <tbody>\n    <tr>\n      <th>0</th>\n      <td>1</td>\n      <td>2022</td>\n      <td>2</td>\n      <td>4</td>\n      <td>35</td>\n      <td>4</td>\n      <td>1</td>\n      <td>1.0</td>\n      <td>2</td>\n      <td>6</td>\n      <td>...</td>\n      <td>NaN</td>\n      <td>NaN</td>\n      <td>NaN</td>\n      <td>NaN</td>\n      <td>NaN</td>\n      <td>NaN</td>\n      <td>2.0</td>\n      <td>18</td>\n      <td>NaN</td>\n      <td>1168</td>\n    </tr>\n    <tr>\n      <th>1</th>\n      <td>2</td>\n      <td>2022</td>\n      <td>2</td>\n      <td>4</td>\n      <td>10</td>\n      <td>0</td>\n      <td>2</td>\n      <td>4.0</td>\n      <td>2</td>\n      <td>6</td>\n      <td>...</td>\n      <td>NaN</td>\n      <td>NaN</td>\n      <td>NaN</td>\n      <td>NaN</td>\n      <td>NaN</td>\n      <td>NaN</td>\n      <td>2.0</td>\n      <td>1</td>\n      <td>NaN</td>\n      <td>76</td>\n    </tr>\n    <tr>\n      <th>2</th>\n      <td>3</td>\n      <td>2022</td>\n      <td>2</td>\n      <td>4</td>\n      <td>35</td>\n      <td>0</td>\n      <td>7</td>\n      <td>NaN</td>\n      <td>2</td>\n      <td>1</td>\n      <td>...</td>\n      <td>NaN</td>\n      <td>NaN</td>\n      <td>NaN</td>\n      <td>NaN</td>\n      <td>NaN</td>\n      <td>NaN</td>\n      <td>1.0</td>\n      <td>6</td>\n      <td>2.0</td>\n      <td>422</td>\n    </tr>\n    <tr>\n      <th>3</th>\n      <td>4</td>\n      <td>2022</td>\n      <td>2</td>\n      <td>4</td>\n      <td>24</td>\n      <td>2</td>\n      <td>12</td>\n      <td>NaN</td>\n      <td>1</td>\n      <td>2</td>\n      <td>...</td>\n      <td>NaN</td>\n      <td>NaN</td>\n      <td>NaN</td>\n      <td>NaN</td>\n      <td>NaN</td>\n      <td>NaN</td>\n      <td>NaN</td>\n      <td>8</td>\n      <td>NaN</td>\n      <td>290</td>\n    </tr>\n    <tr>\n      <th>4</th>\n      <td>5</td>\n      <td>2022</td>\n      <td>2</td>\n      <td>4</td>\n      <td>47</td>\n      <td>0</td>\n      <td>10</td>\n      <td>NaN</td>\n      <td>1</td>\n      <td>1</td>\n      <td>...</td>\n      <td>NaN</td>\n      <td>NaN</td>\n      <td>NaN</td>\n      <td>NaN</td>\n      <td>NaN</td>\n      <td>NaN</td>\n      <td>1.0</td>\n      <td>8</td>\n      <td>NaN</td>\n      <td>81</td>\n    </tr>\n  </tbody>\n</table>\n<p>5 rows × 60 columns</p>\n</div>"
     },
     "execution_count": 31,
     "metadata": {},
     "output_type": "execute_result"
    }
   ],
   "source": [
    "# Column names in lower case\n",
    "df.columns = df.columns.str.lower()\n",
    "\n",
    "# Validate the column selection\n",
    "df.head()\n"
   ],
   "metadata": {
    "collapsed": false,
    "pycharm": {
     "name": "#%%\n"
    }
   }
  },
  {
   "cell_type": "code",
   "execution_count": 32,
   "outputs": [
    {
     "data": {
      "text/plain": "        lfsstat  prov  cma  age_6  sex  educ  cowmain  immig  naics_21  \\\n0             4    35    4    1.0    2     1      2.0      3      10.0   \n1             4    10    0    4.0    2     3      2.0      3      17.0   \n2             4    35    0    NaN    2     5      NaN      2       NaN   \n3             4    24    2    NaN    1     1      2.0      3      19.0   \n4             4    47    0    NaN    1     4      2.0      3      10.0   \n...         ...   ...  ...    ...  ...   ...      ...    ...       ...   \n103653        1    48    0    NaN    1     4      3.0      3       1.0   \n103654        1    35    5    NaN    1     5      1.0      3      21.0   \n103655        1    24    0    NaN    2     5      1.0      3      16.0   \n103656        1    59    9    NaN    2     6      2.0      2      17.0   \n103657        1    13    0    NaN    1     1      5.0      3       1.0   \n\n        uhrsmain  schooln  \n0            NaN      2.0  \n1            NaN      2.0  \n2            NaN      1.0  \n3            NaN      NaN  \n4            NaN      1.0  \n...          ...      ...  \n103653     650.0      1.0  \n103654     400.0      1.0  \n103655     250.0      1.0  \n103656     400.0      1.0  \n103657     600.0      1.0  \n\n[103658 rows x 11 columns]",
      "text/html": "<div>\n<style scoped>\n    .dataframe tbody tr th:only-of-type {\n        vertical-align: middle;\n    }\n\n    .dataframe tbody tr th {\n        vertical-align: top;\n    }\n\n    .dataframe thead th {\n        text-align: right;\n    }\n</style>\n<table border=\"1\" class=\"dataframe\">\n  <thead>\n    <tr style=\"text-align: right;\">\n      <th></th>\n      <th>lfsstat</th>\n      <th>prov</th>\n      <th>cma</th>\n      <th>age_6</th>\n      <th>sex</th>\n      <th>educ</th>\n      <th>cowmain</th>\n      <th>immig</th>\n      <th>naics_21</th>\n      <th>uhrsmain</th>\n      <th>schooln</th>\n    </tr>\n  </thead>\n  <tbody>\n    <tr>\n      <th>0</th>\n      <td>4</td>\n      <td>35</td>\n      <td>4</td>\n      <td>1.0</td>\n      <td>2</td>\n      <td>1</td>\n      <td>2.0</td>\n      <td>3</td>\n      <td>10.0</td>\n      <td>NaN</td>\n      <td>2.0</td>\n    </tr>\n    <tr>\n      <th>1</th>\n      <td>4</td>\n      <td>10</td>\n      <td>0</td>\n      <td>4.0</td>\n      <td>2</td>\n      <td>3</td>\n      <td>2.0</td>\n      <td>3</td>\n      <td>17.0</td>\n      <td>NaN</td>\n      <td>2.0</td>\n    </tr>\n    <tr>\n      <th>2</th>\n      <td>4</td>\n      <td>35</td>\n      <td>0</td>\n      <td>NaN</td>\n      <td>2</td>\n      <td>5</td>\n      <td>NaN</td>\n      <td>2</td>\n      <td>NaN</td>\n      <td>NaN</td>\n      <td>1.0</td>\n    </tr>\n    <tr>\n      <th>3</th>\n      <td>4</td>\n      <td>24</td>\n      <td>2</td>\n      <td>NaN</td>\n      <td>1</td>\n      <td>1</td>\n      <td>2.0</td>\n      <td>3</td>\n      <td>19.0</td>\n      <td>NaN</td>\n      <td>NaN</td>\n    </tr>\n    <tr>\n      <th>4</th>\n      <td>4</td>\n      <td>47</td>\n      <td>0</td>\n      <td>NaN</td>\n      <td>1</td>\n      <td>4</td>\n      <td>2.0</td>\n      <td>3</td>\n      <td>10.0</td>\n      <td>NaN</td>\n      <td>1.0</td>\n    </tr>\n    <tr>\n      <th>...</th>\n      <td>...</td>\n      <td>...</td>\n      <td>...</td>\n      <td>...</td>\n      <td>...</td>\n      <td>...</td>\n      <td>...</td>\n      <td>...</td>\n      <td>...</td>\n      <td>...</td>\n      <td>...</td>\n    </tr>\n    <tr>\n      <th>103653</th>\n      <td>1</td>\n      <td>48</td>\n      <td>0</td>\n      <td>NaN</td>\n      <td>1</td>\n      <td>4</td>\n      <td>3.0</td>\n      <td>3</td>\n      <td>1.0</td>\n      <td>650.0</td>\n      <td>1.0</td>\n    </tr>\n    <tr>\n      <th>103654</th>\n      <td>1</td>\n      <td>35</td>\n      <td>5</td>\n      <td>NaN</td>\n      <td>1</td>\n      <td>5</td>\n      <td>1.0</td>\n      <td>3</td>\n      <td>21.0</td>\n      <td>400.0</td>\n      <td>1.0</td>\n    </tr>\n    <tr>\n      <th>103655</th>\n      <td>1</td>\n      <td>24</td>\n      <td>0</td>\n      <td>NaN</td>\n      <td>2</td>\n      <td>5</td>\n      <td>1.0</td>\n      <td>3</td>\n      <td>16.0</td>\n      <td>250.0</td>\n      <td>1.0</td>\n    </tr>\n    <tr>\n      <th>103656</th>\n      <td>1</td>\n      <td>59</td>\n      <td>9</td>\n      <td>NaN</td>\n      <td>2</td>\n      <td>6</td>\n      <td>2.0</td>\n      <td>2</td>\n      <td>17.0</td>\n      <td>400.0</td>\n      <td>1.0</td>\n    </tr>\n    <tr>\n      <th>103657</th>\n      <td>1</td>\n      <td>13</td>\n      <td>0</td>\n      <td>NaN</td>\n      <td>1</td>\n      <td>1</td>\n      <td>5.0</td>\n      <td>3</td>\n      <td>1.0</td>\n      <td>600.0</td>\n      <td>1.0</td>\n    </tr>\n  </tbody>\n</table>\n<p>103658 rows × 11 columns</p>\n</div>"
     },
     "execution_count": 32,
     "metadata": {},
     "output_type": "execute_result"
    }
   ],
   "source": [
    "selected_columns = [\"lfsstat\", \"prov\", \"cma\", \"age_6\", \"sex\", \"educ\", \"cowmain\", \"immig\", \"naics_21\", \"uhrsmain\", \"schooln\"]\n",
    "\n",
    "# Checking the subset of the initial dataframe\n",
    "our_df = df[selected_columns]\n",
    "our_df.head()\n",
    "our_df"
   ],
   "metadata": {
    "collapsed": false,
    "pycharm": {
     "name": "#%%\n"
    }
   }
  },
  {
   "cell_type": "markdown",
   "source": [
    "## Tried a bunch of things before watching the assignement instructions video :facepalm:\n",
    "Loading the index file with encoding supporting french accents\n",
    "df_index = pd.read_csv('./data/finalproject/LFS_PUMF_EPA_FGMD_variables.csv', encoding='latin_1')\n",
    "I don't think this file is required for the assignment\n",
    "```python\n",
    "# Cleaning df_index column name to remove spaces and special characters. Not required after all\n",
    "\n",
    "df_index.columns = df_index.columns.str.replace('\\n', '').str.replace(' ','_').str.split('/').str[0].str.replace('-','_').str.replace('_','').str.replace(':','')\n",
    "```\n",
    "I was confused with the index file, and how to correlate it to pub0222.csv so i looked into a library: https://stats-can.readthedocs.io/en/latest/. It didn't seem to do what i was expecting. I thought maybe the pumf file format could be read and mapped automatically using a library.\n",
    "\n",
    "After a few more tries, i figured you might have posted something about how to do this, since most my time was spent finding mapping in between cma codes / province codes and the associated names"
   ],
   "metadata": {
    "collapsed": false,
    "pycharm": {
     "name": "#%% md\n"
    }
   }
  },
  {
   "cell_type": "code",
   "execution_count": 32,
   "outputs": [],
   "source": [],
   "metadata": {
    "collapsed": false,
    "pycharm": {
     "name": "#%%\n"
    }
   }
  },
  {
   "cell_type": "code",
   "execution_count": 32,
   "outputs": [],
   "source": [],
   "metadata": {
    "collapsed": false,
    "pycharm": {
     "name": "#%%\n"
    }
   }
  },
  {
   "cell_type": "code",
   "execution_count": 32,
   "outputs": [],
   "source": [],
   "metadata": {
    "collapsed": false,
    "pycharm": {
     "name": "#%%\n"
    }
   }
  },
  {
   "cell_type": "code",
   "execution_count": 33,
   "outputs": [
    {
     "name": "stderr",
     "output_type": "stream",
     "text": [
      "/tmp/ipykernel_79848/2191313334.py:21: SettingWithCopyWarning: \n",
      "A value is trying to be set on a copy of a slice from a DataFrame.\n",
      "Try using .loc[row_indexer,col_indexer] = value instead\n",
      "\n",
      "See the caveats in the documentation: https://pandas.pydata.org/pandas-docs/stable/user_guide/indexing.html#returning-a-view-versus-a-copy\n",
      "  our_df['prov_name'] = our_df.prov.map(province_mapping)\n"
     ]
    }
   ],
   "source": [
    "# Replace province code by actual name\n",
    "# From before watching the instructions video...\n",
    "# Mapping from here: https://www150.statcan.gc.ca/n1/pub/92-195-x/2011001/geo/prov/tbl/tbl8-eng.htm\n",
    "province_mapping = {\n",
    "    10: \"NL\",\n",
    "    11: \"PE\",\n",
    "    12: \"NS\",\n",
    "    13: \"ND\",\n",
    "    24: \"QC\",\n",
    "    35: \"ON\",\n",
    "    46: \"MB\",\n",
    "    47: \"SK\",\n",
    "    48: \"AB\",\n",
    "    59: \"BC\",\n",
    "    60: \"YT\",\n",
    "    61: \"NT\",\n",
    "    62: \"NU\"\n",
    "}\n",
    "\n",
    "# Map value from a dictionary. Adapted from https://sparkbyexamples.com/pandas/pandas-remap-values-in-column-with-a-dictionary-dict/#:~:text=Using%20map()%20to%20Remap%20Column%20Values%20in%20Pandas&text=Using%20map()%20to%20remap%20column%20values%20in%20pandas%20DataFrame,df%5B%22Courses%22%5D.\n",
    "our_df['prov_name'] = our_df.prov.map(province_mapping)"
   ],
   "metadata": {
    "collapsed": false,
    "pycharm": {
     "name": "#%%\n"
    }
   }
  },
  {
   "cell_type": "code",
   "execution_count": 34,
   "outputs": [
    {
     "data": {
      "text/plain": "        lfsstat  prov  cma  age_6  sex  educ  cowmain  immig  naics_21  \\\n0             4    35    4    1.0    2     1      2.0      3      10.0   \n1             4    10    0    4.0    2     3      2.0      3      17.0   \n2             4    35    0    NaN    2     5      NaN      2       NaN   \n3             4    24    2    NaN    1     1      2.0      3      19.0   \n4             4    47    0    NaN    1     4      2.0      3      10.0   \n...         ...   ...  ...    ...  ...   ...      ...    ...       ...   \n103653        1    48    0    NaN    1     4      3.0      3       1.0   \n103654        1    35    5    NaN    1     5      1.0      3      21.0   \n103655        1    24    0    NaN    2     5      1.0      3      16.0   \n103656        1    59    9    NaN    2     6      2.0      2      17.0   \n103657        1    13    0    NaN    1     1      5.0      3       1.0   \n\n        uhrsmain  schooln prov_name  \n0            NaN      2.0        ON  \n1            NaN      2.0        NL  \n2            NaN      1.0        ON  \n3            NaN      NaN        QC  \n4            NaN      1.0        SK  \n...          ...      ...       ...  \n103653     650.0      1.0        AB  \n103654     400.0      1.0        ON  \n103655     250.0      1.0        QC  \n103656     400.0      1.0        BC  \n103657     600.0      1.0        ND  \n\n[103658 rows x 12 columns]",
      "text/html": "<div>\n<style scoped>\n    .dataframe tbody tr th:only-of-type {\n        vertical-align: middle;\n    }\n\n    .dataframe tbody tr th {\n        vertical-align: top;\n    }\n\n    .dataframe thead th {\n        text-align: right;\n    }\n</style>\n<table border=\"1\" class=\"dataframe\">\n  <thead>\n    <tr style=\"text-align: right;\">\n      <th></th>\n      <th>lfsstat</th>\n      <th>prov</th>\n      <th>cma</th>\n      <th>age_6</th>\n      <th>sex</th>\n      <th>educ</th>\n      <th>cowmain</th>\n      <th>immig</th>\n      <th>naics_21</th>\n      <th>uhrsmain</th>\n      <th>schooln</th>\n      <th>prov_name</th>\n    </tr>\n  </thead>\n  <tbody>\n    <tr>\n      <th>0</th>\n      <td>4</td>\n      <td>35</td>\n      <td>4</td>\n      <td>1.0</td>\n      <td>2</td>\n      <td>1</td>\n      <td>2.0</td>\n      <td>3</td>\n      <td>10.0</td>\n      <td>NaN</td>\n      <td>2.0</td>\n      <td>ON</td>\n    </tr>\n    <tr>\n      <th>1</th>\n      <td>4</td>\n      <td>10</td>\n      <td>0</td>\n      <td>4.0</td>\n      <td>2</td>\n      <td>3</td>\n      <td>2.0</td>\n      <td>3</td>\n      <td>17.0</td>\n      <td>NaN</td>\n      <td>2.0</td>\n      <td>NL</td>\n    </tr>\n    <tr>\n      <th>2</th>\n      <td>4</td>\n      <td>35</td>\n      <td>0</td>\n      <td>NaN</td>\n      <td>2</td>\n      <td>5</td>\n      <td>NaN</td>\n      <td>2</td>\n      <td>NaN</td>\n      <td>NaN</td>\n      <td>1.0</td>\n      <td>ON</td>\n    </tr>\n    <tr>\n      <th>3</th>\n      <td>4</td>\n      <td>24</td>\n      <td>2</td>\n      <td>NaN</td>\n      <td>1</td>\n      <td>1</td>\n      <td>2.0</td>\n      <td>3</td>\n      <td>19.0</td>\n      <td>NaN</td>\n      <td>NaN</td>\n      <td>QC</td>\n    </tr>\n    <tr>\n      <th>4</th>\n      <td>4</td>\n      <td>47</td>\n      <td>0</td>\n      <td>NaN</td>\n      <td>1</td>\n      <td>4</td>\n      <td>2.0</td>\n      <td>3</td>\n      <td>10.0</td>\n      <td>NaN</td>\n      <td>1.0</td>\n      <td>SK</td>\n    </tr>\n    <tr>\n      <th>...</th>\n      <td>...</td>\n      <td>...</td>\n      <td>...</td>\n      <td>...</td>\n      <td>...</td>\n      <td>...</td>\n      <td>...</td>\n      <td>...</td>\n      <td>...</td>\n      <td>...</td>\n      <td>...</td>\n      <td>...</td>\n    </tr>\n    <tr>\n      <th>103653</th>\n      <td>1</td>\n      <td>48</td>\n      <td>0</td>\n      <td>NaN</td>\n      <td>1</td>\n      <td>4</td>\n      <td>3.0</td>\n      <td>3</td>\n      <td>1.0</td>\n      <td>650.0</td>\n      <td>1.0</td>\n      <td>AB</td>\n    </tr>\n    <tr>\n      <th>103654</th>\n      <td>1</td>\n      <td>35</td>\n      <td>5</td>\n      <td>NaN</td>\n      <td>1</td>\n      <td>5</td>\n      <td>1.0</td>\n      <td>3</td>\n      <td>21.0</td>\n      <td>400.0</td>\n      <td>1.0</td>\n      <td>ON</td>\n    </tr>\n    <tr>\n      <th>103655</th>\n      <td>1</td>\n      <td>24</td>\n      <td>0</td>\n      <td>NaN</td>\n      <td>2</td>\n      <td>5</td>\n      <td>1.0</td>\n      <td>3</td>\n      <td>16.0</td>\n      <td>250.0</td>\n      <td>1.0</td>\n      <td>QC</td>\n    </tr>\n    <tr>\n      <th>103656</th>\n      <td>1</td>\n      <td>59</td>\n      <td>9</td>\n      <td>NaN</td>\n      <td>2</td>\n      <td>6</td>\n      <td>2.0</td>\n      <td>2</td>\n      <td>17.0</td>\n      <td>400.0</td>\n      <td>1.0</td>\n      <td>BC</td>\n    </tr>\n    <tr>\n      <th>103657</th>\n      <td>1</td>\n      <td>13</td>\n      <td>0</td>\n      <td>NaN</td>\n      <td>1</td>\n      <td>1</td>\n      <td>5.0</td>\n      <td>3</td>\n      <td>1.0</td>\n      <td>600.0</td>\n      <td>1.0</td>\n      <td>ND</td>\n    </tr>\n  </tbody>\n</table>\n<p>103658 rows × 12 columns</p>\n</div>"
     },
     "execution_count": 34,
     "metadata": {},
     "output_type": "execute_result"
    }
   ],
   "source": [
    "# Checking the remapping of prov\n",
    "our_df.head()\n",
    "our_df"
   ],
   "metadata": {
    "collapsed": false,
    "pycharm": {
     "name": "#%%\n"
    }
   }
  },
  {
   "cell_type": "markdown",
   "source": [],
   "metadata": {
    "collapsed": false,
    "pycharm": {
     "name": "#%% md\n"
    }
   }
  },
  {
   "cell_type": "code",
   "execution_count": 34,
   "outputs": [],
   "source": [],
   "metadata": {
    "collapsed": false,
    "pycharm": {
     "name": "#%%\n"
    }
   }
  },
  {
   "cell_type": "code",
   "execution_count": 35,
   "outputs": [
    {
     "name": "stderr",
     "output_type": "stream",
     "text": [
      "/tmp/ipykernel_79848/1844206451.py:23: SettingWithCopyWarning: \n",
      "A value is trying to be set on a copy of a slice from a DataFrame.\n",
      "Try using .loc[row_indexer,col_indexer] = value instead\n",
      "\n",
      "See the caveats in the documentation: https://pandas.pydata.org/pandas-docs/stable/user_guide/indexing.html#returning-a-view-versus-a-copy\n",
      "  our_df['cma_name'] = our_df['cma'].map(cma_mapping)\n"
     ]
    },
    {
     "data": {
      "text/plain": "        lfsstat  prov  cma  age_6  sex  educ  cowmain  immig  naics_21  \\\n0             4    35    4    1.0    2     1      2.0      3      10.0   \n1             4    10    0    4.0    2     3      2.0      3      17.0   \n2             4    35    0    NaN    2     5      NaN      2       NaN   \n3             4    24    2    NaN    1     1      2.0      3      19.0   \n4             4    47    0    NaN    1     4      2.0      3      10.0   \n...         ...   ...  ...    ...  ...   ...      ...    ...       ...   \n103653        1    48    0    NaN    1     4      3.0      3       1.0   \n103654        1    35    5    NaN    1     5      1.0      3      21.0   \n103655        1    24    0    NaN    2     5      1.0      3      16.0   \n103656        1    59    9    NaN    2     6      2.0      2      17.0   \n103657        1    13    0    NaN    1     1      5.0      3       1.0   \n\n        uhrsmain  schooln prov_name   cma_name  \n0            NaN      2.0        ON    Toronto  \n1            NaN      2.0        NL  Other CMA  \n2            NaN      1.0        ON  Other CMA  \n3            NaN      NaN        QC   Montréal  \n4            NaN      1.0        SK  Other CMA  \n...          ...      ...       ...        ...  \n103653     650.0      1.0        AB  Other CMA  \n103654     400.0      1.0        ON   Hamilton  \n103655     250.0      1.0        QC  Other CMA  \n103656     400.0      1.0        BC  Vancouver  \n103657     600.0      1.0        ND  Other CMA  \n\n[103658 rows x 13 columns]",
      "text/html": "<div>\n<style scoped>\n    .dataframe tbody tr th:only-of-type {\n        vertical-align: middle;\n    }\n\n    .dataframe tbody tr th {\n        vertical-align: top;\n    }\n\n    .dataframe thead th {\n        text-align: right;\n    }\n</style>\n<table border=\"1\" class=\"dataframe\">\n  <thead>\n    <tr style=\"text-align: right;\">\n      <th></th>\n      <th>lfsstat</th>\n      <th>prov</th>\n      <th>cma</th>\n      <th>age_6</th>\n      <th>sex</th>\n      <th>educ</th>\n      <th>cowmain</th>\n      <th>immig</th>\n      <th>naics_21</th>\n      <th>uhrsmain</th>\n      <th>schooln</th>\n      <th>prov_name</th>\n      <th>cma_name</th>\n    </tr>\n  </thead>\n  <tbody>\n    <tr>\n      <th>0</th>\n      <td>4</td>\n      <td>35</td>\n      <td>4</td>\n      <td>1.0</td>\n      <td>2</td>\n      <td>1</td>\n      <td>2.0</td>\n      <td>3</td>\n      <td>10.0</td>\n      <td>NaN</td>\n      <td>2.0</td>\n      <td>ON</td>\n      <td>Toronto</td>\n    </tr>\n    <tr>\n      <th>1</th>\n      <td>4</td>\n      <td>10</td>\n      <td>0</td>\n      <td>4.0</td>\n      <td>2</td>\n      <td>3</td>\n      <td>2.0</td>\n      <td>3</td>\n      <td>17.0</td>\n      <td>NaN</td>\n      <td>2.0</td>\n      <td>NL</td>\n      <td>Other CMA</td>\n    </tr>\n    <tr>\n      <th>2</th>\n      <td>4</td>\n      <td>35</td>\n      <td>0</td>\n      <td>NaN</td>\n      <td>2</td>\n      <td>5</td>\n      <td>NaN</td>\n      <td>2</td>\n      <td>NaN</td>\n      <td>NaN</td>\n      <td>1.0</td>\n      <td>ON</td>\n      <td>Other CMA</td>\n    </tr>\n    <tr>\n      <th>3</th>\n      <td>4</td>\n      <td>24</td>\n      <td>2</td>\n      <td>NaN</td>\n      <td>1</td>\n      <td>1</td>\n      <td>2.0</td>\n      <td>3</td>\n      <td>19.0</td>\n      <td>NaN</td>\n      <td>NaN</td>\n      <td>QC</td>\n      <td>Montréal</td>\n    </tr>\n    <tr>\n      <th>4</th>\n      <td>4</td>\n      <td>47</td>\n      <td>0</td>\n      <td>NaN</td>\n      <td>1</td>\n      <td>4</td>\n      <td>2.0</td>\n      <td>3</td>\n      <td>10.0</td>\n      <td>NaN</td>\n      <td>1.0</td>\n      <td>SK</td>\n      <td>Other CMA</td>\n    </tr>\n    <tr>\n      <th>...</th>\n      <td>...</td>\n      <td>...</td>\n      <td>...</td>\n      <td>...</td>\n      <td>...</td>\n      <td>...</td>\n      <td>...</td>\n      <td>...</td>\n      <td>...</td>\n      <td>...</td>\n      <td>...</td>\n      <td>...</td>\n      <td>...</td>\n    </tr>\n    <tr>\n      <th>103653</th>\n      <td>1</td>\n      <td>48</td>\n      <td>0</td>\n      <td>NaN</td>\n      <td>1</td>\n      <td>4</td>\n      <td>3.0</td>\n      <td>3</td>\n      <td>1.0</td>\n      <td>650.0</td>\n      <td>1.0</td>\n      <td>AB</td>\n      <td>Other CMA</td>\n    </tr>\n    <tr>\n      <th>103654</th>\n      <td>1</td>\n      <td>35</td>\n      <td>5</td>\n      <td>NaN</td>\n      <td>1</td>\n      <td>5</td>\n      <td>1.0</td>\n      <td>3</td>\n      <td>21.0</td>\n      <td>400.0</td>\n      <td>1.0</td>\n      <td>ON</td>\n      <td>Hamilton</td>\n    </tr>\n    <tr>\n      <th>103655</th>\n      <td>1</td>\n      <td>24</td>\n      <td>0</td>\n      <td>NaN</td>\n      <td>2</td>\n      <td>5</td>\n      <td>1.0</td>\n      <td>3</td>\n      <td>16.0</td>\n      <td>250.0</td>\n      <td>1.0</td>\n      <td>QC</td>\n      <td>Other CMA</td>\n    </tr>\n    <tr>\n      <th>103656</th>\n      <td>1</td>\n      <td>59</td>\n      <td>9</td>\n      <td>NaN</td>\n      <td>2</td>\n      <td>6</td>\n      <td>2.0</td>\n      <td>2</td>\n      <td>17.0</td>\n      <td>400.0</td>\n      <td>1.0</td>\n      <td>BC</td>\n      <td>Vancouver</td>\n    </tr>\n    <tr>\n      <th>103657</th>\n      <td>1</td>\n      <td>13</td>\n      <td>0</td>\n      <td>NaN</td>\n      <td>1</td>\n      <td>1</td>\n      <td>5.0</td>\n      <td>3</td>\n      <td>1.0</td>\n      <td>600.0</td>\n      <td>1.0</td>\n      <td>ND</td>\n      <td>Other CMA</td>\n    </tr>\n  </tbody>\n</table>\n<p>103658 rows × 13 columns</p>\n</div>"
     },
     "execution_count": 35,
     "metadata": {},
     "output_type": "execute_result"
    }
   ],
   "source": [
    "# doesnt work\n",
    "# cma = pd.read_excel(\"./data/TP_TAB\")\n",
    "#\n",
    "# cma[::1]\n",
    "# cma_dict = cma[['Unnamed: 3']].to_dict()\n",
    "# cma_dict\n",
    "# #cma_dict\n",
    "# our_df['cma_name'] = our_df['cma'].map(cma_dict)\n",
    "# #our_df\n",
    "# our_df\n",
    "cma_mapping = {\n",
    "    1: \"Québec\",\n",
    "    2: \"Montréal\",\n",
    "    3: \"Ottawa/Gatineau\",\n",
    "    4: \"Toronto\",\n",
    "    5: \"Hamilton\",\n",
    "    6: \"Winnipeg\",\n",
    "    7: \"Calgary\",\n",
    "    8: \"Edmonton\",\n",
    "    9: \"Vancouver\",\n",
    "    0: \"Other CMA\"\n",
    "}\n",
    "our_df['cma_name'] = our_df['cma'].map(cma_mapping)\n",
    "our_df"
   ],
   "metadata": {
    "collapsed": false,
    "pycharm": {
     "name": "#%%\n"
    }
   }
  },
  {
   "cell_type": "code",
   "execution_count": 37,
   "outputs": [
    {
     "name": "stderr",
     "output_type": "stream",
     "text": [
      "/tmp/ipykernel_79848/3014474728.py:7: SettingWithCopyWarning: \n",
      "A value is trying to be set on a copy of a slice from a DataFrame.\n",
      "Try using .loc[row_indexer,col_indexer] = value instead\n",
      "\n",
      "See the caveats in the documentation: https://pandas.pydata.org/pandas-docs/stable/user_guide/indexing.html#returning-a-view-versus-a-copy\n",
      "  our_df['sex'] = our_df['sex'].map(sex_mapping)\n"
     ]
    },
    {
     "data": {
      "text/plain": "        lfsstat  prov  cma  age_6 sex  educ  cowmain  immig  naics_21  \\\n0             4    35    4    1.0   F     1      2.0      3      10.0   \n1             4    10    0    4.0   F     3      2.0      3      17.0   \n2             4    35    0    NaN   F     5      NaN      2       NaN   \n3             4    24    2    NaN   M     1      2.0      3      19.0   \n4             4    47    0    NaN   M     4      2.0      3      10.0   \n...         ...   ...  ...    ...  ..   ...      ...    ...       ...   \n103653        1    48    0    NaN   M     4      3.0      3       1.0   \n103654        1    35    5    NaN   M     5      1.0      3      21.0   \n103655        1    24    0    NaN   F     5      1.0      3      16.0   \n103656        1    59    9    NaN   F     6      2.0      2      17.0   \n103657        1    13    0    NaN   M     1      5.0      3       1.0   \n\n        uhrsmain  schooln prov_name   cma_name  \n0            NaN      2.0        ON    Toronto  \n1            NaN      2.0        NL  Other CMA  \n2            NaN      1.0        ON  Other CMA  \n3            NaN      NaN        QC   Montréal  \n4            NaN      1.0        SK  Other CMA  \n...          ...      ...       ...        ...  \n103653     650.0      1.0        AB  Other CMA  \n103654     400.0      1.0        ON   Hamilton  \n103655     250.0      1.0        QC  Other CMA  \n103656     400.0      1.0        BC  Vancouver  \n103657     600.0      1.0        ND  Other CMA  \n\n[103658 rows x 13 columns]",
      "text/html": "<div>\n<style scoped>\n    .dataframe tbody tr th:only-of-type {\n        vertical-align: middle;\n    }\n\n    .dataframe tbody tr th {\n        vertical-align: top;\n    }\n\n    .dataframe thead th {\n        text-align: right;\n    }\n</style>\n<table border=\"1\" class=\"dataframe\">\n  <thead>\n    <tr style=\"text-align: right;\">\n      <th></th>\n      <th>lfsstat</th>\n      <th>prov</th>\n      <th>cma</th>\n      <th>age_6</th>\n      <th>sex</th>\n      <th>educ</th>\n      <th>cowmain</th>\n      <th>immig</th>\n      <th>naics_21</th>\n      <th>uhrsmain</th>\n      <th>schooln</th>\n      <th>prov_name</th>\n      <th>cma_name</th>\n    </tr>\n  </thead>\n  <tbody>\n    <tr>\n      <th>0</th>\n      <td>4</td>\n      <td>35</td>\n      <td>4</td>\n      <td>1.0</td>\n      <td>F</td>\n      <td>1</td>\n      <td>2.0</td>\n      <td>3</td>\n      <td>10.0</td>\n      <td>NaN</td>\n      <td>2.0</td>\n      <td>ON</td>\n      <td>Toronto</td>\n    </tr>\n    <tr>\n      <th>1</th>\n      <td>4</td>\n      <td>10</td>\n      <td>0</td>\n      <td>4.0</td>\n      <td>F</td>\n      <td>3</td>\n      <td>2.0</td>\n      <td>3</td>\n      <td>17.0</td>\n      <td>NaN</td>\n      <td>2.0</td>\n      <td>NL</td>\n      <td>Other CMA</td>\n    </tr>\n    <tr>\n      <th>2</th>\n      <td>4</td>\n      <td>35</td>\n      <td>0</td>\n      <td>NaN</td>\n      <td>F</td>\n      <td>5</td>\n      <td>NaN</td>\n      <td>2</td>\n      <td>NaN</td>\n      <td>NaN</td>\n      <td>1.0</td>\n      <td>ON</td>\n      <td>Other CMA</td>\n    </tr>\n    <tr>\n      <th>3</th>\n      <td>4</td>\n      <td>24</td>\n      <td>2</td>\n      <td>NaN</td>\n      <td>M</td>\n      <td>1</td>\n      <td>2.0</td>\n      <td>3</td>\n      <td>19.0</td>\n      <td>NaN</td>\n      <td>NaN</td>\n      <td>QC</td>\n      <td>Montréal</td>\n    </tr>\n    <tr>\n      <th>4</th>\n      <td>4</td>\n      <td>47</td>\n      <td>0</td>\n      <td>NaN</td>\n      <td>M</td>\n      <td>4</td>\n      <td>2.0</td>\n      <td>3</td>\n      <td>10.0</td>\n      <td>NaN</td>\n      <td>1.0</td>\n      <td>SK</td>\n      <td>Other CMA</td>\n    </tr>\n    <tr>\n      <th>...</th>\n      <td>...</td>\n      <td>...</td>\n      <td>...</td>\n      <td>...</td>\n      <td>...</td>\n      <td>...</td>\n      <td>...</td>\n      <td>...</td>\n      <td>...</td>\n      <td>...</td>\n      <td>...</td>\n      <td>...</td>\n      <td>...</td>\n    </tr>\n    <tr>\n      <th>103653</th>\n      <td>1</td>\n      <td>48</td>\n      <td>0</td>\n      <td>NaN</td>\n      <td>M</td>\n      <td>4</td>\n      <td>3.0</td>\n      <td>3</td>\n      <td>1.0</td>\n      <td>650.0</td>\n      <td>1.0</td>\n      <td>AB</td>\n      <td>Other CMA</td>\n    </tr>\n    <tr>\n      <th>103654</th>\n      <td>1</td>\n      <td>35</td>\n      <td>5</td>\n      <td>NaN</td>\n      <td>M</td>\n      <td>5</td>\n      <td>1.0</td>\n      <td>3</td>\n      <td>21.0</td>\n      <td>400.0</td>\n      <td>1.0</td>\n      <td>ON</td>\n      <td>Hamilton</td>\n    </tr>\n    <tr>\n      <th>103655</th>\n      <td>1</td>\n      <td>24</td>\n      <td>0</td>\n      <td>NaN</td>\n      <td>F</td>\n      <td>5</td>\n      <td>1.0</td>\n      <td>3</td>\n      <td>16.0</td>\n      <td>250.0</td>\n      <td>1.0</td>\n      <td>QC</td>\n      <td>Other CMA</td>\n    </tr>\n    <tr>\n      <th>103656</th>\n      <td>1</td>\n      <td>59</td>\n      <td>9</td>\n      <td>NaN</td>\n      <td>F</td>\n      <td>6</td>\n      <td>2.0</td>\n      <td>2</td>\n      <td>17.0</td>\n      <td>400.0</td>\n      <td>1.0</td>\n      <td>BC</td>\n      <td>Vancouver</td>\n    </tr>\n    <tr>\n      <th>103657</th>\n      <td>1</td>\n      <td>13</td>\n      <td>0</td>\n      <td>NaN</td>\n      <td>M</td>\n      <td>1</td>\n      <td>5.0</td>\n      <td>3</td>\n      <td>1.0</td>\n      <td>600.0</td>\n      <td>1.0</td>\n      <td>ND</td>\n      <td>Other CMA</td>\n    </tr>\n  </tbody>\n</table>\n<p>103658 rows × 13 columns</p>\n</div>"
     },
     "execution_count": 37,
     "metadata": {},
     "output_type": "execute_result"
    }
   ],
   "source": [
    "# Replace the value in place with the number 1,2 with “M”, “F”, “O”, null/none\n",
    "# Validating that sex only contains 1 or 2 values\n",
    "our_df.query('sex != 1 and sex != 2')\n",
    "sex_mapping = {\n",
    "    1: \"M\",\n",
    "    2: \"F\"\n",
    "}\n",
    "our_df['sex'] = our_df['sex'].map(sex_mapping)\n",
    "our_df"
   ],
   "metadata": {
    "collapsed": false,
    "pycharm": {
     "name": "#%%\n"
    }
   }
  },
  {
   "cell_type": "code",
   "execution_count": 42,
   "outputs": [
    {
     "name": "stderr",
     "output_type": "stream",
     "text": [
      "/tmp/ipykernel_79848/2878242930.py:11: SettingWithCopyWarning: \n",
      "A value is trying to be set on a copy of a slice from a DataFrame.\n",
      "Try using .loc[row_indexer,col_indexer] = value instead\n",
      "\n",
      "See the caveats in the documentation: https://pandas.pydata.org/pandas-docs/stable/user_guide/indexing.html#returning-a-view-versus-a-copy\n",
      "  our_df['cowmain_name'] = our_df.cowmain.map(cowmain_name_mapping)\n"
     ]
    },
    {
     "data": {
      "text/plain": "        lfsstat  prov  cma  age_6 sex  educ  cowmain  immig  naics_21  \\\n0             4    35    4    1.0   F     1      2.0      3      10.0   \n1             4    10    0    4.0   F     3      2.0      3      17.0   \n2             4    35    0    NaN   F     5      NaN      2       NaN   \n3             4    24    2    NaN   M     1      2.0      3      19.0   \n4             4    47    0    NaN   M     4      2.0      3      10.0   \n...         ...   ...  ...    ...  ..   ...      ...    ...       ...   \n103653        1    48    0    NaN   M     4      3.0      3       1.0   \n103654        1    35    5    NaN   M     5      1.0      3      21.0   \n103655        1    24    0    NaN   F     5      1.0      3      16.0   \n103656        1    59    9    NaN   F     6      2.0      2      17.0   \n103657        1    13    0    NaN   M     1      5.0      3       1.0   \n\n        uhrsmain  schooln prov_name   cma_name  \\\n0            NaN      2.0        ON    Toronto   \n1            NaN      2.0        NL  Other CMA   \n2            NaN      1.0        ON  Other CMA   \n3            NaN      NaN        QC   Montréal   \n4            NaN      1.0        SK  Other CMA   \n...          ...      ...       ...        ...   \n103653     650.0      1.0        AB  Other CMA   \n103654     400.0      1.0        ON   Hamilton   \n103655     250.0      1.0        QC  Other CMA   \n103656     400.0      1.0        BC  Vancouver   \n103657     600.0      1.0        ND  Other CMA   \n\n                                       cowmain_name  \n0                          Private sector employees  \n1                          Private sector employees  \n2                                    Not applicable  \n3                          Private sector employees  \n4                          Private sector employees  \n...                                             ...  \n103653    Self-employed incorporated with paid help  \n103654                      Public sector employees  \n103655                      Public sector employees  \n103656                     Private sector employees  \n103657  Self-employed unincorporated with paid help  \n\n[103658 rows x 14 columns]",
      "text/html": "<div>\n<style scoped>\n    .dataframe tbody tr th:only-of-type {\n        vertical-align: middle;\n    }\n\n    .dataframe tbody tr th {\n        vertical-align: top;\n    }\n\n    .dataframe thead th {\n        text-align: right;\n    }\n</style>\n<table border=\"1\" class=\"dataframe\">\n  <thead>\n    <tr style=\"text-align: right;\">\n      <th></th>\n      <th>lfsstat</th>\n      <th>prov</th>\n      <th>cma</th>\n      <th>age_6</th>\n      <th>sex</th>\n      <th>educ</th>\n      <th>cowmain</th>\n      <th>immig</th>\n      <th>naics_21</th>\n      <th>uhrsmain</th>\n      <th>schooln</th>\n      <th>prov_name</th>\n      <th>cma_name</th>\n      <th>cowmain_name</th>\n    </tr>\n  </thead>\n  <tbody>\n    <tr>\n      <th>0</th>\n      <td>4</td>\n      <td>35</td>\n      <td>4</td>\n      <td>1.0</td>\n      <td>F</td>\n      <td>1</td>\n      <td>2.0</td>\n      <td>3</td>\n      <td>10.0</td>\n      <td>NaN</td>\n      <td>2.0</td>\n      <td>ON</td>\n      <td>Toronto</td>\n      <td>Private sector employees</td>\n    </tr>\n    <tr>\n      <th>1</th>\n      <td>4</td>\n      <td>10</td>\n      <td>0</td>\n      <td>4.0</td>\n      <td>F</td>\n      <td>3</td>\n      <td>2.0</td>\n      <td>3</td>\n      <td>17.0</td>\n      <td>NaN</td>\n      <td>2.0</td>\n      <td>NL</td>\n      <td>Other CMA</td>\n      <td>Private sector employees</td>\n    </tr>\n    <tr>\n      <th>2</th>\n      <td>4</td>\n      <td>35</td>\n      <td>0</td>\n      <td>NaN</td>\n      <td>F</td>\n      <td>5</td>\n      <td>NaN</td>\n      <td>2</td>\n      <td>NaN</td>\n      <td>NaN</td>\n      <td>1.0</td>\n      <td>ON</td>\n      <td>Other CMA</td>\n      <td>Not applicable</td>\n    </tr>\n    <tr>\n      <th>3</th>\n      <td>4</td>\n      <td>24</td>\n      <td>2</td>\n      <td>NaN</td>\n      <td>M</td>\n      <td>1</td>\n      <td>2.0</td>\n      <td>3</td>\n      <td>19.0</td>\n      <td>NaN</td>\n      <td>NaN</td>\n      <td>QC</td>\n      <td>Montréal</td>\n      <td>Private sector employees</td>\n    </tr>\n    <tr>\n      <th>4</th>\n      <td>4</td>\n      <td>47</td>\n      <td>0</td>\n      <td>NaN</td>\n      <td>M</td>\n      <td>4</td>\n      <td>2.0</td>\n      <td>3</td>\n      <td>10.0</td>\n      <td>NaN</td>\n      <td>1.0</td>\n      <td>SK</td>\n      <td>Other CMA</td>\n      <td>Private sector employees</td>\n    </tr>\n    <tr>\n      <th>...</th>\n      <td>...</td>\n      <td>...</td>\n      <td>...</td>\n      <td>...</td>\n      <td>...</td>\n      <td>...</td>\n      <td>...</td>\n      <td>...</td>\n      <td>...</td>\n      <td>...</td>\n      <td>...</td>\n      <td>...</td>\n      <td>...</td>\n      <td>...</td>\n    </tr>\n    <tr>\n      <th>103653</th>\n      <td>1</td>\n      <td>48</td>\n      <td>0</td>\n      <td>NaN</td>\n      <td>M</td>\n      <td>4</td>\n      <td>3.0</td>\n      <td>3</td>\n      <td>1.0</td>\n      <td>650.0</td>\n      <td>1.0</td>\n      <td>AB</td>\n      <td>Other CMA</td>\n      <td>Self-employed incorporated with paid help</td>\n    </tr>\n    <tr>\n      <th>103654</th>\n      <td>1</td>\n      <td>35</td>\n      <td>5</td>\n      <td>NaN</td>\n      <td>M</td>\n      <td>5</td>\n      <td>1.0</td>\n      <td>3</td>\n      <td>21.0</td>\n      <td>400.0</td>\n      <td>1.0</td>\n      <td>ON</td>\n      <td>Hamilton</td>\n      <td>Public sector employees</td>\n    </tr>\n    <tr>\n      <th>103655</th>\n      <td>1</td>\n      <td>24</td>\n      <td>0</td>\n      <td>NaN</td>\n      <td>F</td>\n      <td>5</td>\n      <td>1.0</td>\n      <td>3</td>\n      <td>16.0</td>\n      <td>250.0</td>\n      <td>1.0</td>\n      <td>QC</td>\n      <td>Other CMA</td>\n      <td>Public sector employees</td>\n    </tr>\n    <tr>\n      <th>103656</th>\n      <td>1</td>\n      <td>59</td>\n      <td>9</td>\n      <td>NaN</td>\n      <td>F</td>\n      <td>6</td>\n      <td>2.0</td>\n      <td>2</td>\n      <td>17.0</td>\n      <td>400.0</td>\n      <td>1.0</td>\n      <td>BC</td>\n      <td>Vancouver</td>\n      <td>Private sector employees</td>\n    </tr>\n    <tr>\n      <th>103657</th>\n      <td>1</td>\n      <td>13</td>\n      <td>0</td>\n      <td>NaN</td>\n      <td>M</td>\n      <td>1</td>\n      <td>5.0</td>\n      <td>3</td>\n      <td>1.0</td>\n      <td>600.0</td>\n      <td>1.0</td>\n      <td>ND</td>\n      <td>Other CMA</td>\n      <td>Self-employed unincorporated with paid help</td>\n    </tr>\n  </tbody>\n</table>\n<p>103658 rows × 14 columns</p>\n</div>"
     },
     "execution_count": 42,
     "metadata": {},
     "output_type": "execute_result"
    }
   ],
   "source": [
    "# cowmain_name field: Put the real values here refer to the index file.\n",
    "cowmain_name_mapping = {\n",
    "    1: \"Public sector employees\",\n",
    "    2: \"Private sector employees\",\n",
    "    3: \"Self-employed incorporated with paid help\",\n",
    "    4: \"Self-employed incorporated no paid help\",\n",
    "    5: \"Self-employed unincorporated with paid help\",\n",
    "    6: \"Self-employed unincorporated no paid help\",\n",
    "    7: \"Unpaid family worker\",\n",
    "    np.NaN: \"Not applicable\"\n",
    "}\n",
    "our_df['cowmain_name'] = our_df.cowmain.map(cowmain_name_mapping)\n",
    "our_df"
   ],
   "metadata": {
    "collapsed": false,
    "pycharm": {
     "name": "#%%\n"
    }
   }
  },
  {
   "cell_type": "code",
   "execution_count": 43,
   "outputs": [
    {
     "name": "stderr",
     "output_type": "stream",
     "text": [
      "/tmp/ipykernel_79848/1968389607.py:7: SettingWithCopyWarning: \n",
      "A value is trying to be set on a copy of a slice from a DataFrame.\n",
      "Try using .loc[row_indexer,col_indexer] = value instead\n",
      "\n",
      "See the caveats in the documentation: https://pandas.pydata.org/pandas-docs/stable/user_guide/indexing.html#returning-a-view-versus-a-copy\n",
      "  our_df['immig'] = our_df['immig'].map(immigration_status)\n"
     ]
    }
   ],
   "source": [
    "# Replace the value in place. Put “True” or “False” for the immigrated status.\n",
    "immigration_status = {\n",
    "    1: \"Immigrant, landed 10 or less years earlier\",\n",
    "    2: \"Immigrant, landed more than 10 years earlier\",\n",
    "    3: \"Non-immigrant\"\n",
    "}\n",
    "our_df['immig'] = our_df['immig'].map(immigration_status)"
   ],
   "metadata": {
    "collapsed": false,
    "pycharm": {
     "name": "#%%\n"
    }
   }
  },
  {
   "cell_type": "code",
   "execution_count": 47,
   "outputs": [
    {
     "name": "stderr",
     "output_type": "stream",
     "text": [
      "/tmp/ipykernel_79848/1814369040.py:25: SettingWithCopyWarning: \n",
      "A value is trying to be set on a copy of a slice from a DataFrame.\n",
      "Try using .loc[row_indexer,col_indexer] = value instead\n",
      "\n",
      "See the caveats in the documentation: https://pandas.pydata.org/pandas-docs/stable/user_guide/indexing.html#returning-a-view-versus-a-copy\n",
      "  our_df['naics_21'] = our_df['naics_21'].map(naics_21_mapping)\n"
     ]
    }
   ],
   "source": [
    "# Put the real values here refer to the index file.\n",
    "naics_21_mapping = {\n",
    "    1: \"Agriculture\",\n",
    "    2: \"Forestry and logging and support activities for forestry\",\n",
    "    3: \"Fishing, hunting and trapping\",\n",
    "    4: \"Mining, quarrying, and oil and gas extraction\",\n",
    "    5: \"Utilities\",\n",
    "    6: \"Construction\",\n",
    "    7: \"Manufacturing - durable goods\",\n",
    "    8: \"Manufacturing - non-durable goods\",\n",
    "    9: \"Wholesale trade\",\n",
    "    10: \"Retail trade\",\n",
    "    11: \"Transportation and warehousing\",\n",
    "    12: \"Finance and insurance\",\n",
    "    13: \"Real estate and rental and leasing\",\n",
    "    14: \"Professional, scientific and technical services\",\n",
    "    15: \"Business, building and other support services\",\n",
    "    16: \"Educational services\",\n",
    "    17: \"Health care and social assistance\",\n",
    "    18: \"Information, culture and recreation\",\n",
    "    19: \"Accommodation and food services\",\n",
    "    20: \"Other services (except public administration)\",\n",
    "    21: \"Public administration\",\n",
    "    np.NaN: \"Not applicable\"\n",
    "}\n",
    "our_df['naics_21'] = our_df['naics_21'].map(naics_21_mapping)"
   ],
   "metadata": {
    "collapsed": false,
    "pycharm": {
     "name": "#%%\n"
    }
   }
  },
  {
   "cell_type": "code",
   "execution_count": 52,
   "outputs": [
    {
     "name": "stderr",
     "output_type": "stream",
     "text": [
      "/tmp/ipykernel_79848/1645387520.py:13: SettingWithCopyWarning: \n",
      "A value is trying to be set on a copy of a slice from a DataFrame.\n",
      "Try using .loc[row_indexer,col_indexer] = value instead\n",
      "\n",
      "See the caveats in the documentation: https://pandas.pydata.org/pandas-docs/stable/user_guide/indexing.html#returning-a-view-versus-a-copy\n",
      "  our_df['is_student'] = our_df['schooln'].map(lambda x: is_Student(x), na_action='ignore')\n"
     ]
    }
   ],
   "source": [
    "# Boolean value of True or false based on schooln.\n",
    "schooln_mapping = {\n",
    "    1: \"Non-student\",\n",
    "    2: \"Full-time student\",\n",
    "    3: \"Part-time student\",\n",
    "    np.NaN: \"Not applicable\"\n",
    "}\n",
    "\n",
    "# Returns True is student is in school and false if the person is \"Non-student\". N/A will be represented by NaN in DataFrame\n",
    "def is_Student(x):\n",
    "    if x in [1,2]:\n",
    "        return True\n",
    "    else:\n",
    "        return False\n",
    "\n",
    "our_df['is_student'] = our_df['schooln'].map(lambda x: is_Student(x), na_action='ignore')"
   ],
   "metadata": {
    "collapsed": false,
    "pycharm": {
     "name": "#%%\n"
    }
   }
  },
  {
   "cell_type": "code",
   "execution_count": 71,
   "outputs": [
    {
     "name": "stderr",
     "output_type": "stream",
     "text": [
      "/tmp/ipykernel_79848/1702382205.py:1: SettingWithCopyWarning: \n",
      "A value is trying to be set on a copy of a slice from a DataFrame.\n",
      "Try using .loc[row_indexer,col_indexer] = value instead\n",
      "\n",
      "See the caveats in the documentation: https://pandas.pydata.org/pandas-docs/stable/user_guide/indexing.html#returning-a-view-versus-a-copy\n",
      "  our_df['student_full_time'] = our_df['schooln'].map(lambda x: True if (x == 2.0) else np.NaN, na_action='ignore')\n"
     ]
    }
   ],
   "source": [
    "# This is a Boolean value based on schooln, put nothing if the person is not a student\n",
    "# Setting student_fulll_time to boolean\n",
    "our_df['student_full_time'] = our_df['schooln'].map(lambda x: True if (x == 2.0) else np.NaN, na_action='ignore')"
   ],
   "metadata": {
    "collapsed": false,
    "pycharm": {
     "name": "#%%\n"
    }
   }
  },
  {
   "cell_type": "markdown",
   "source": [
    "## Our final dataset"
   ],
   "metadata": {
    "collapsed": false
   }
  },
  {
   "cell_type": "code",
   "execution_count": 74,
   "outputs": [
    {
     "data": {
      "text/plain": "   lfsstat  prov  cma  age_6 sex  educ  cowmain  \\\n0        4    35    4    1.0   F     1      2.0   \n1        4    10    0    4.0   F     3      2.0   \n2        4    35    0    NaN   F     5      NaN   \n3        4    24    2    NaN   M     1      2.0   \n4        4    47    0    NaN   M     4      2.0   \n\n                                          immig  \\\n0                                 Non-immigrant   \n1                                 Non-immigrant   \n2  Immigrant, landed more than 10 years earlier   \n3                                 Non-immigrant   \n4                                 Non-immigrant   \n\n                            naics_21  uhrsmain  schooln prov_name   cma_name  \\\n0                       Retail trade       NaN      2.0        ON    Toronto   \n1  Health care and social assistance       NaN      2.0        NL  Other CMA   \n2                     Not applicable       NaN      1.0        ON  Other CMA   \n3    Accommodation and food services       NaN      NaN        QC   Montréal   \n4                       Retail trade       NaN      1.0        SK  Other CMA   \n\n               cowmain_name                      full_naics_21 is_student  \\\n0  Private sector employees                       Retail trade       True   \n1  Private sector employees  Health care and social assistance       True   \n2            Not applicable                     Not applicable       True   \n3  Private sector employees    Accommodation and food services        NaN   \n4  Private sector employees                       Retail trade       True   \n\n  student_full_time  \n0              True  \n1              True  \n2               NaN  \n3               NaN  \n4               NaN  ",
      "text/html": "<div>\n<style scoped>\n    .dataframe tbody tr th:only-of-type {\n        vertical-align: middle;\n    }\n\n    .dataframe tbody tr th {\n        vertical-align: top;\n    }\n\n    .dataframe thead th {\n        text-align: right;\n    }\n</style>\n<table border=\"1\" class=\"dataframe\">\n  <thead>\n    <tr style=\"text-align: right;\">\n      <th></th>\n      <th>lfsstat</th>\n      <th>prov</th>\n      <th>cma</th>\n      <th>age_6</th>\n      <th>sex</th>\n      <th>educ</th>\n      <th>cowmain</th>\n      <th>immig</th>\n      <th>naics_21</th>\n      <th>uhrsmain</th>\n      <th>schooln</th>\n      <th>prov_name</th>\n      <th>cma_name</th>\n      <th>cowmain_name</th>\n      <th>full_naics_21</th>\n      <th>is_student</th>\n      <th>student_full_time</th>\n    </tr>\n  </thead>\n  <tbody>\n    <tr>\n      <th>0</th>\n      <td>4</td>\n      <td>35</td>\n      <td>4</td>\n      <td>1.0</td>\n      <td>F</td>\n      <td>1</td>\n      <td>2.0</td>\n      <td>Non-immigrant</td>\n      <td>Retail trade</td>\n      <td>NaN</td>\n      <td>2.0</td>\n      <td>ON</td>\n      <td>Toronto</td>\n      <td>Private sector employees</td>\n      <td>Retail trade</td>\n      <td>True</td>\n      <td>True</td>\n    </tr>\n    <tr>\n      <th>1</th>\n      <td>4</td>\n      <td>10</td>\n      <td>0</td>\n      <td>4.0</td>\n      <td>F</td>\n      <td>3</td>\n      <td>2.0</td>\n      <td>Non-immigrant</td>\n      <td>Health care and social assistance</td>\n      <td>NaN</td>\n      <td>2.0</td>\n      <td>NL</td>\n      <td>Other CMA</td>\n      <td>Private sector employees</td>\n      <td>Health care and social assistance</td>\n      <td>True</td>\n      <td>True</td>\n    </tr>\n    <tr>\n      <th>2</th>\n      <td>4</td>\n      <td>35</td>\n      <td>0</td>\n      <td>NaN</td>\n      <td>F</td>\n      <td>5</td>\n      <td>NaN</td>\n      <td>Immigrant, landed more than 10 years earlier</td>\n      <td>Not applicable</td>\n      <td>NaN</td>\n      <td>1.0</td>\n      <td>ON</td>\n      <td>Other CMA</td>\n      <td>Not applicable</td>\n      <td>Not applicable</td>\n      <td>True</td>\n      <td>NaN</td>\n    </tr>\n    <tr>\n      <th>3</th>\n      <td>4</td>\n      <td>24</td>\n      <td>2</td>\n      <td>NaN</td>\n      <td>M</td>\n      <td>1</td>\n      <td>2.0</td>\n      <td>Non-immigrant</td>\n      <td>Accommodation and food services</td>\n      <td>NaN</td>\n      <td>NaN</td>\n      <td>QC</td>\n      <td>Montréal</td>\n      <td>Private sector employees</td>\n      <td>Accommodation and food services</td>\n      <td>NaN</td>\n      <td>NaN</td>\n    </tr>\n    <tr>\n      <th>4</th>\n      <td>4</td>\n      <td>47</td>\n      <td>0</td>\n      <td>NaN</td>\n      <td>M</td>\n      <td>4</td>\n      <td>2.0</td>\n      <td>Non-immigrant</td>\n      <td>Retail trade</td>\n      <td>NaN</td>\n      <td>1.0</td>\n      <td>SK</td>\n      <td>Other CMA</td>\n      <td>Private sector employees</td>\n      <td>Retail trade</td>\n      <td>True</td>\n      <td>NaN</td>\n    </tr>\n  </tbody>\n</table>\n</div>"
     },
     "execution_count": 74,
     "metadata": {},
     "output_type": "execute_result"
    }
   ],
   "source": [
    "our_df.head()"
   ],
   "metadata": {
    "collapsed": false,
    "pycharm": {
     "name": "#%%\n"
    }
   }
  },
  {
   "cell_type": "markdown",
   "source": [
    "## Import data to mysql server"
   ],
   "metadata": {
    "collapsed": false
   }
  },
  {
   "cell_type": "code",
   "execution_count": 94,
   "outputs": [],
   "source": [
    "import mysql.connector\n",
    "import sqlalchemy as db"
   ],
   "metadata": {
    "collapsed": false,
    "pycharm": {
     "name": "#%%\n"
    }
   }
  },
  {
   "cell_type": "code",
   "execution_count": 103,
   "outputs": [
    {
     "name": "stderr",
     "output_type": "stream",
     "text": [
      "/tmp/ipykernel_79848/2856582111.py:7: SADeprecationWarning: Calling URL() directly is deprecated and will be disabled in a future release.  The public constructor for URL is now the URL.create() method.\n",
      "  url = db.engine.URL(drivername='mysql', host='127.0.0.1',\n"
     ]
    },
    {
     "data": {
      "text/plain": "103658"
     },
     "execution_count": 103,
     "metadata": {},
     "output_type": "execute_result"
    }
   ],
   "source": [
    "\n",
    "# Create database with mysql\n",
    "config_file = \"cebd-1160-projectstarter-winter-2022/.my.cnf\"\n",
    "connection = mysql.connector.connect(option_files=config_file)\n",
    "cursor = connection.cursor()\n",
    "#cursor.execute('CREATE DATABASE StatsCan')\n",
    "\n",
    "# Load data in Mysql databse using sqlAlchemy\n",
    "url = db.engine.URL(drivername='mysql', host='127.0.0.1',\n",
    "                    database='StatsCan',\n",
    "                    username='cebd1160_user', password='cebd1160')\n",
    "engine = db.create_engine(url)\n",
    "\n",
    "our_df.to_sql(\"WorkStatus\", engine, schema=\"StatsCan\")"
   ],
   "metadata": {
    "collapsed": false,
    "pycharm": {
     "name": "#%%\n"
    }
   }
  },
  {
   "cell_type": "code",
   "execution_count": null,
   "outputs": [],
   "source": [],
   "metadata": {
    "collapsed": false,
    "pycharm": {
     "name": "#%%\n"
    }
   }
  },
  {
   "cell_type": "code",
   "execution_count": 107,
   "outputs": [
    {
     "data": {
      "text/plain": "   index  lfsstat  prov  cma  age_6 sex  educ  cowmain  \\\n0      0        4    35    4    1.0   F     1      2.0   \n1      1        4    10    0    4.0   F     3      2.0   \n2      2        4    35    0    NaN   F     5      NaN   \n3      3        4    24    2    NaN   M     1      2.0   \n4      4        4    47    0    NaN   M     4      2.0   \n5      5        1    24    0    NaN   F     4      2.0   \n6      6        1    35    0    5.0   F     2      2.0   \n7      7        4    12    0    NaN   M     1      NaN   \n8      8        2    35    0    5.0   M     5      1.0   \n9      9        1    24    0    NaN   F     4      2.0   \n\n                                          immig  \\\n0                                 Non-immigrant   \n1                                 Non-immigrant   \n2  Immigrant, landed more than 10 years earlier   \n3                                 Non-immigrant   \n4                                 Non-immigrant   \n5                                 Non-immigrant   \n6                                 Non-immigrant   \n7                                 Non-immigrant   \n8                                 Non-immigrant   \n9                                 Non-immigrant   \n\n                                        naics_21  uhrsmain  schooln prov_name  \\\n0                                   Retail trade       NaN      2.0        ON   \n1              Health care and social assistance       NaN      2.0        NL   \n2                                 Not applicable       NaN      1.0        ON   \n3                Accommodation and food services       NaN      NaN        QC   \n4                                   Retail trade       NaN      1.0        SK   \n5                                   Retail trade     100.0      NaN        QC   \n6  Business, building and other support services     200.0      1.0        ON   \n7                                 Not applicable       NaN      NaN        NS   \n8              Health care and social assistance     400.0      1.0        ON   \n9  Business, building and other support services     400.0      1.0        QC   \n\n    cma_name              cowmain_name  \\\n0    Toronto  Private sector employees   \n1  Other CMA  Private sector employees   \n2  Other CMA            Not applicable   \n3   Montréal  Private sector employees   \n4  Other CMA  Private sector employees   \n5  Other CMA  Private sector employees   \n6  Other CMA  Private sector employees   \n7  Other CMA            Not applicable   \n8  Other CMA   Public sector employees   \n9  Other CMA  Private sector employees   \n\n                                   full_naics_21  is_student  \\\n0                                   Retail trade         1.0   \n1              Health care and social assistance         1.0   \n2                                 Not applicable         1.0   \n3                Accommodation and food services         NaN   \n4                                   Retail trade         1.0   \n5                                   Retail trade         NaN   \n6  Business, building and other support services         1.0   \n7                                 Not applicable         NaN   \n8              Health care and social assistance         1.0   \n9  Business, building and other support services         1.0   \n\n   student_full_time  \n0                1.0  \n1                1.0  \n2                NaN  \n3                NaN  \n4                NaN  \n5                NaN  \n6                NaN  \n7                NaN  \n8                NaN  \n9                NaN  ",
      "text/html": "<div>\n<style scoped>\n    .dataframe tbody tr th:only-of-type {\n        vertical-align: middle;\n    }\n\n    .dataframe tbody tr th {\n        vertical-align: top;\n    }\n\n    .dataframe thead th {\n        text-align: right;\n    }\n</style>\n<table border=\"1\" class=\"dataframe\">\n  <thead>\n    <tr style=\"text-align: right;\">\n      <th></th>\n      <th>index</th>\n      <th>lfsstat</th>\n      <th>prov</th>\n      <th>cma</th>\n      <th>age_6</th>\n      <th>sex</th>\n      <th>educ</th>\n      <th>cowmain</th>\n      <th>immig</th>\n      <th>naics_21</th>\n      <th>uhrsmain</th>\n      <th>schooln</th>\n      <th>prov_name</th>\n      <th>cma_name</th>\n      <th>cowmain_name</th>\n      <th>full_naics_21</th>\n      <th>is_student</th>\n      <th>student_full_time</th>\n    </tr>\n  </thead>\n  <tbody>\n    <tr>\n      <th>0</th>\n      <td>0</td>\n      <td>4</td>\n      <td>35</td>\n      <td>4</td>\n      <td>1.0</td>\n      <td>F</td>\n      <td>1</td>\n      <td>2.0</td>\n      <td>Non-immigrant</td>\n      <td>Retail trade</td>\n      <td>NaN</td>\n      <td>2.0</td>\n      <td>ON</td>\n      <td>Toronto</td>\n      <td>Private sector employees</td>\n      <td>Retail trade</td>\n      <td>1.0</td>\n      <td>1.0</td>\n    </tr>\n    <tr>\n      <th>1</th>\n      <td>1</td>\n      <td>4</td>\n      <td>10</td>\n      <td>0</td>\n      <td>4.0</td>\n      <td>F</td>\n      <td>3</td>\n      <td>2.0</td>\n      <td>Non-immigrant</td>\n      <td>Health care and social assistance</td>\n      <td>NaN</td>\n      <td>2.0</td>\n      <td>NL</td>\n      <td>Other CMA</td>\n      <td>Private sector employees</td>\n      <td>Health care and social assistance</td>\n      <td>1.0</td>\n      <td>1.0</td>\n    </tr>\n    <tr>\n      <th>2</th>\n      <td>2</td>\n      <td>4</td>\n      <td>35</td>\n      <td>0</td>\n      <td>NaN</td>\n      <td>F</td>\n      <td>5</td>\n      <td>NaN</td>\n      <td>Immigrant, landed more than 10 years earlier</td>\n      <td>Not applicable</td>\n      <td>NaN</td>\n      <td>1.0</td>\n      <td>ON</td>\n      <td>Other CMA</td>\n      <td>Not applicable</td>\n      <td>Not applicable</td>\n      <td>1.0</td>\n      <td>NaN</td>\n    </tr>\n    <tr>\n      <th>3</th>\n      <td>3</td>\n      <td>4</td>\n      <td>24</td>\n      <td>2</td>\n      <td>NaN</td>\n      <td>M</td>\n      <td>1</td>\n      <td>2.0</td>\n      <td>Non-immigrant</td>\n      <td>Accommodation and food services</td>\n      <td>NaN</td>\n      <td>NaN</td>\n      <td>QC</td>\n      <td>Montréal</td>\n      <td>Private sector employees</td>\n      <td>Accommodation and food services</td>\n      <td>NaN</td>\n      <td>NaN</td>\n    </tr>\n    <tr>\n      <th>4</th>\n      <td>4</td>\n      <td>4</td>\n      <td>47</td>\n      <td>0</td>\n      <td>NaN</td>\n      <td>M</td>\n      <td>4</td>\n      <td>2.0</td>\n      <td>Non-immigrant</td>\n      <td>Retail trade</td>\n      <td>NaN</td>\n      <td>1.0</td>\n      <td>SK</td>\n      <td>Other CMA</td>\n      <td>Private sector employees</td>\n      <td>Retail trade</td>\n      <td>1.0</td>\n      <td>NaN</td>\n    </tr>\n    <tr>\n      <th>5</th>\n      <td>5</td>\n      <td>1</td>\n      <td>24</td>\n      <td>0</td>\n      <td>NaN</td>\n      <td>F</td>\n      <td>4</td>\n      <td>2.0</td>\n      <td>Non-immigrant</td>\n      <td>Retail trade</td>\n      <td>100.0</td>\n      <td>NaN</td>\n      <td>QC</td>\n      <td>Other CMA</td>\n      <td>Private sector employees</td>\n      <td>Retail trade</td>\n      <td>NaN</td>\n      <td>NaN</td>\n    </tr>\n    <tr>\n      <th>6</th>\n      <td>6</td>\n      <td>1</td>\n      <td>35</td>\n      <td>0</td>\n      <td>5.0</td>\n      <td>F</td>\n      <td>2</td>\n      <td>2.0</td>\n      <td>Non-immigrant</td>\n      <td>Business, building and other support services</td>\n      <td>200.0</td>\n      <td>1.0</td>\n      <td>ON</td>\n      <td>Other CMA</td>\n      <td>Private sector employees</td>\n      <td>Business, building and other support services</td>\n      <td>1.0</td>\n      <td>NaN</td>\n    </tr>\n    <tr>\n      <th>7</th>\n      <td>7</td>\n      <td>4</td>\n      <td>12</td>\n      <td>0</td>\n      <td>NaN</td>\n      <td>M</td>\n      <td>1</td>\n      <td>NaN</td>\n      <td>Non-immigrant</td>\n      <td>Not applicable</td>\n      <td>NaN</td>\n      <td>NaN</td>\n      <td>NS</td>\n      <td>Other CMA</td>\n      <td>Not applicable</td>\n      <td>Not applicable</td>\n      <td>NaN</td>\n      <td>NaN</td>\n    </tr>\n    <tr>\n      <th>8</th>\n      <td>8</td>\n      <td>2</td>\n      <td>35</td>\n      <td>0</td>\n      <td>5.0</td>\n      <td>M</td>\n      <td>5</td>\n      <td>1.0</td>\n      <td>Non-immigrant</td>\n      <td>Health care and social assistance</td>\n      <td>400.0</td>\n      <td>1.0</td>\n      <td>ON</td>\n      <td>Other CMA</td>\n      <td>Public sector employees</td>\n      <td>Health care and social assistance</td>\n      <td>1.0</td>\n      <td>NaN</td>\n    </tr>\n    <tr>\n      <th>9</th>\n      <td>9</td>\n      <td>1</td>\n      <td>24</td>\n      <td>0</td>\n      <td>NaN</td>\n      <td>F</td>\n      <td>4</td>\n      <td>2.0</td>\n      <td>Non-immigrant</td>\n      <td>Business, building and other support services</td>\n      <td>400.0</td>\n      <td>1.0</td>\n      <td>QC</td>\n      <td>Other CMA</td>\n      <td>Private sector employees</td>\n      <td>Business, building and other support services</td>\n      <td>1.0</td>\n      <td>NaN</td>\n    </tr>\n  </tbody>\n</table>\n</div>"
     },
     "execution_count": 107,
     "metadata": {},
     "output_type": "execute_result"
    }
   ],
   "source": [
    "# Validate data using sqlalchemy connection\n",
    "pd.read_sql_query('SELECT * FROM StatsCan.WorkStatus LIMIT 10', engine)"
   ],
   "metadata": {
    "collapsed": false,
    "pycharm": {
     "name": "#%%\n"
    }
   }
  },
  {
   "cell_type": "code",
   "execution_count": null,
   "outputs": [],
   "source": [],
   "metadata": {
    "collapsed": false,
    "pycharm": {
     "name": "#%%\n"
    }
   }
  }
 ],
 "metadata": {
  "kernelspec": {
   "display_name": "Python 3",
   "language": "python",
   "name": "python3"
  },
  "language_info": {
   "codemirror_mode": {
    "name": "ipython",
    "version": 2
   },
   "file_extension": ".py",
   "mimetype": "text/x-python",
   "name": "python",
   "nbconvert_exporter": "python",
   "pygments_lexer": "ipython2",
   "version": "2.7.6"
  }
 },
 "nbformat": 4,
 "nbformat_minor": 0
}